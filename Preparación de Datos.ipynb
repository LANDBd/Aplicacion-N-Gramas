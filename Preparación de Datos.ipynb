{
 "cells": [
  {
   "cell_type": "code",
   "execution_count": 29,
   "metadata": {},
   "outputs": [],
   "source": [
    "#        ,----,                                          \n",
    "#      ,/   .`|                                          \n",
    "#    ,`   .'  :                      ,---,               \n",
    "#  ;    ;     /                    .'  .' `\\             \n",
    "#.'___,/    ,'  ,---.      ,---,.,---.'     \\    ,---.   \n",
    "#|    :     |  '   ,'\\   ,'  .' ||   |  .`\\  |  '   ,'\\  \n",
    "#;    |.';  ; /   /   |,---.'   ,:   : |  '  | /   /   | \n",
    "#`----'  |  |.   ; ,. :|   |    ||   ' '  ;  :.   ; ,. : \n",
    "#    '   :  ;'   | |: ::   :  .' '   | ;  .  |'   | |: : \n",
    "#    |   |  ''   | .; ::   |.'   |   | :  |  ''   | .; : \n",
    "#    '   :  ||   :    |`---'     '   : | /  ; |   :    | \n",
    "#    ;   |.'  \\   \\  /           |   | '` ,/   \\   \\  /  \n",
    "#    '---'     `----'            ;   :  .'      `----'   \n",
    "#                                |   ,.'                 \n",
    "#                                '---'                   \n",
    "#                                                        \n",
    "\n",
    "# COMO ME LLEGA EL CORPUS? El corpus lo leo ya sea de un txt o de un csv\n",
    "# COMO Y POR Q SEPARARLO: Las mananeras vienen secuencialmente y hay periodos donde se repte, se puede separar por fechas y randomizar las oraciones dentro.\n",
    "# QUE ES UNA SEMILLA DE REPRODUCIBILIDAD: \n",
    "# Hacer un corpus de prueba para las siguientes ...\n",
    "# 1) Separar el corpus  el conjuntos entrenamiento y prueba . \n",
    "# Recordar que el conjunto que prueba debe ser creado de manera aleatoria, por lo tanto, \n",
    "# debe de fijarse una semilla para lograr reproducibilidad.\n",
    "\n",
    "# COMO ANALIZAR UN CORPUS CON GRAFICAS BONITAS ...\n",
    "# 2) Hacer un análisis exploratorio del conjunto de entrenamiento para decidir sobre el siguiente paso. \n",
    "# Una guía es la siguiente: https://neptune.ai/blog/exploratory-data-analysis-natural-language-processing-tools\n",
    "\n",
    "# ---------------------------------------\n",
    "# QUE DECISIONES VOY A TOMAR EN MI CORPUS\n",
    "# 3) En función del análisis previo: limpiar, normalizar, segmentar y tokenizar el corpus de entrenamiento.  \n",
    "# 4) Las palabras poco frecuentes transformarlas en el token <UNK>. \n",
    "\n",
    "# CORPUS LISTO PARA EL MODELO DE N-GRAMAS\n",
    "# CUAL ES MI OUTPUT, QUE NECESITA?\n",
    "\n",
    "# 5) Una vez armado el corpus de entrenamiento, construir el corpus ordenado, listo para ser usado en el modelo de n-gramas,\n",
    "#    debe tener la estructura [['token','token', ...'token'],['token','token', ...'token'] .. ['token','token', ...'token']]. \n",
    "\n",
    "# PUEDO AGREGAR OTRAS TECNICAS AL VOCAB?\n",
    "# 6) Crea el vocabulario"
   ]
  },
  {
   "attachments": {},
   "cell_type": "markdown",
   "metadata": {},
   "source": [
    "# **Obteniendo el corpus** 📖"
   ]
  },
  {
   "cell_type": "code",
   "execution_count": 30,
   "metadata": {},
   "outputs": [],
   "source": [
    "def getData(filename: str) -> str:\n",
    "    \n",
    "    rawData = \"\"\n",
    "    with open(filename, encoding=\"utf-8\") as f:\n",
    "        for line in f:\n",
    "            rawData += line\n",
    "    return rawData"
   ]
  },
  {
   "cell_type": "code",
   "execution_count": 31,
   "metadata": {},
   "outputs": [
    {
     "name": "stdout",
     "output_type": "stream",
     "text": [
      "Carácteres: 1218\n",
      "Extracto: \n",
      "\" … de su partido que había que destazar o destripar o despanzurrar, ¿o cómo era?, cualquiera de esas palabras que, finalmente, dichas o no dichas de manera directa los legisladores ilustran, describen, finalmente lo que según los especialistas y la gente que directamente está operando al sistema electoral en México pues podría ocurrir en caso de que estas reformas finalmente puedan validarse de manera sorpresiva, diría así desde mi punto de vista, por la Suprema Corte de Justicia que ya están a\n"
     ]
    }
   ],
   "source": [
    "rawCorpus = getData(\"corpus.txt\")\n",
    "print(f\"Carácteres: {len(rawCorpus)}\")\n",
    "print(f\"Extracto: \\n{rawCorpus[:500]}\")"
   ]
  },
  {
   "attachments": {},
   "cell_type": "markdown",
   "metadata": {},
   "source": [
    "## **Análisis exploratorio** 🔎\n",
    "\n",
    "El propósito es realizar un análisis exploratorio sobre los datos crudos para tener una base en la toma de desiciones con respecto al pre-procesamiento de datos (limpieza, normalización, etc.).\n",
    "\n",
    "### Estadísticas simples\n",
    "\n",
    "- Cantidad de palabras (secuencias de caractéres separados por espacios).\n",
    "- Cantidad de oraciones (secuencias de palabras separados por un punto)."
   ]
  },
  {
   "cell_type": "code",
   "execution_count": 32,
   "metadata": {},
   "outputs": [
    {
     "name": "stdout",
     "output_type": "stream",
     "text": [
      "Cantidad de carácteres: 1218\n",
      "Cantidad de palabras: 219\n",
      "Cantidad de oraciones: 6\n",
      "Promedio de carácteres por palabra: 6\n",
      "Promedio de palabras por oración: 36\n"
     ]
    }
   ],
   "source": [
    "from nltk.tokenize import word_tokenize, sent_tokenize\n",
    "words=word_tokenize(rawCorpus, \"spanish\")\n",
    "sentences=sent_tokenize(rawCorpus, \"spanish\")\n",
    "\n",
    "print(\"Cantidad de carácteres:\", len(rawCorpus))\n",
    "print(\"Cantidad de palabras:\", len(words))\n",
    "print(\"Cantidad de oraciones:\", len(sentences))\n",
    "print(\"Promedio de carácteres por palabra:\", round(len(rawCorpus) / len(words)))\n",
    "print(\"Promedio de palabras por oración:\", round(len(words) / len(sentences)))"
   ]
  },
  {
   "attachments": {},
   "cell_type": "markdown",
   "metadata": {},
   "source": [
    "### Distribución del tamaño de las palabras"
   ]
  },
  {
   "cell_type": "code",
   "execution_count": 33,
   "metadata": {},
   "outputs": [
    {
     "data": {
      "application/vnd.plotly.v1+json": {
       "config": {
        "plotlyServerURL": "https://plot.ly"
       },
       "data": [
        {
         "alignmentgroup": "True",
         "box": {
          "visible": true
         },
         "hovertemplate": "variable=%{x}<br>value=%{y}<extra></extra>",
         "legendgroup": "",
         "marker": {
          "color": "#636efa"
         },
         "name": "",
         "offsetgroup": "",
         "orientation": "v",
         "scalegroup": "True",
         "showlegend": false,
         "type": "violin",
         "x": [
          "0",
          "0",
          "0",
          "0",
          "0",
          "0",
          "0",
          "0",
          "0",
          "0",
          "0",
          "0",
          "0",
          "0",
          "0",
          "0",
          "0",
          "0",
          "0",
          "0",
          "0",
          "0",
          "0",
          "0",
          "0",
          "0",
          "0",
          "0",
          "0",
          "0",
          "0",
          "0",
          "0",
          "0",
          "0",
          "0",
          "0",
          "0",
          "0",
          "0",
          "0",
          "0",
          "0",
          "0",
          "0",
          "0",
          "0",
          "0",
          "0",
          "0",
          "0",
          "0",
          "0",
          "0",
          "0",
          "0",
          "0",
          "0",
          "0",
          "0",
          "0",
          "0",
          "0",
          "0",
          "0",
          "0",
          "0",
          "0",
          "0",
          "0",
          "0",
          "0",
          "0",
          "0",
          "0",
          "0",
          "0",
          "0",
          "0",
          "0",
          "0",
          "0",
          "0",
          "0",
          "0",
          "0",
          "0",
          "0",
          "0",
          "0",
          "0",
          "0",
          "0",
          "0",
          "0",
          "0",
          "0",
          "0",
          "0",
          "0",
          "0",
          "0",
          "0",
          "0",
          "0",
          "0",
          "0",
          "0",
          "0",
          "0",
          "0",
          "0",
          "0",
          "0",
          "0",
          "0",
          "0",
          "0",
          "0",
          "0",
          "0",
          "0",
          "0",
          "0",
          "0",
          "0",
          "0",
          "0",
          "0",
          "0",
          "0",
          "0",
          "0",
          "0",
          "0",
          "0",
          "0",
          "0",
          "0",
          "0",
          "0",
          "0",
          "0",
          "0",
          "0",
          "0",
          "0",
          "0",
          "0",
          "0",
          "0",
          "0",
          "0",
          "0",
          "0",
          "0",
          "0",
          "0",
          "0",
          "0",
          "0",
          "0",
          "0",
          "0",
          "0",
          "0",
          "0",
          "0",
          "0",
          "0",
          "0",
          "0",
          "0",
          "0",
          "0",
          "0",
          "0",
          "0",
          "0",
          "0",
          "0",
          "0",
          "0",
          "0",
          "0",
          "0",
          "0",
          "0",
          "0",
          "0",
          "0",
          "0",
          "0",
          "0",
          "0",
          "0",
          "0",
          "0",
          "0",
          "0",
          "0",
          "0",
          "0",
          "0",
          "0",
          "0",
          "0",
          "0",
          "0",
          "0",
          "0",
          "0",
          "0",
          "0",
          "0",
          "0",
          "0",
          "0",
          "0"
         ],
         "x0": " ",
         "xaxis": "x",
         "y": [
          2,
          1,
          2,
          2,
          7,
          3,
          5,
          3,
          8,
          1,
          9,
          1,
          12,
          1,
          2,
          4,
          3,
          1,
          1,
          10,
          2,
          4,
          8,
          3,
          1,
          10,
          1,
          6,
          1,
          2,
          6,
          2,
          6,
          7,
          3,
          12,
          8,
          1,
          9,
          1,
          10,
          2,
          3,
          5,
          3,
          13,
          1,
          2,
          5,
          3,
          12,
          4,
          8,
          2,
          7,
          9,
          2,
          6,
          4,
          6,
          7,
          2,
          4,
          2,
          3,
          5,
          8,
          10,
          6,
          9,
          2,
          6,
          10,
          1,
          5,
          3,
          5,
          2,
          5,
          2,
          5,
          1,
          3,
          2,
          7,
          5,
          2,
          8,
          3,
          2,
          5,
          3,
          10,
          3,
          13,
          16,
          1,
          2,
          18,
          2,
          3,
          3,
          7,
          6,
          1,
          4,
          8,
          3,
          5,
          3,
          3,
          3,
          2,
          8,
          1,
          3,
          2,
          12,
          1,
          3,
          3,
          11,
          1,
          3,
          2,
          8,
          1,
          4,
          2,
          3,
          9,
          2,
          7,
          1,
          10,
          1,
          1,
          3,
          3,
          10,
          11,
          1,
          1,
          4,
          5,
          1,
          10,
          1,
          2,
          3,
          11,
          5,
          4,
          8,
          4,
          3,
          2,
          10,
          7,
          1,
          8,
          3,
          8,
          2,
          7,
          9,
          10,
          14,
          1,
          2,
          18,
          2,
          2,
          6,
          1,
          7,
          5,
          4,
          1,
          4,
          1,
          4,
          10,
          6,
          1,
          2,
          3,
          1,
          9,
          3,
          10,
          6,
          7,
          9,
          3,
          4,
          4,
          8,
          4,
          10,
          1,
          4,
          8,
          1,
          7,
          7,
          1,
          10,
          8,
          1,
          1,
          5,
          1,
          7,
          3,
          5,
          4,
          1,
          2
         ],
         "y0": " ",
         "yaxis": "y"
        }
       ],
       "layout": {
        "legend": {
         "tracegroupgap": 0
        },
        "template": {
         "data": {
          "bar": [
           {
            "error_x": {
             "color": "#2a3f5f"
            },
            "error_y": {
             "color": "#2a3f5f"
            },
            "marker": {
             "line": {
              "color": "#E5ECF6",
              "width": 0.5
             },
             "pattern": {
              "fillmode": "overlay",
              "size": 10,
              "solidity": 0.2
             }
            },
            "type": "bar"
           }
          ],
          "barpolar": [
           {
            "marker": {
             "line": {
              "color": "#E5ECF6",
              "width": 0.5
             },
             "pattern": {
              "fillmode": "overlay",
              "size": 10,
              "solidity": 0.2
             }
            },
            "type": "barpolar"
           }
          ],
          "carpet": [
           {
            "aaxis": {
             "endlinecolor": "#2a3f5f",
             "gridcolor": "white",
             "linecolor": "white",
             "minorgridcolor": "white",
             "startlinecolor": "#2a3f5f"
            },
            "baxis": {
             "endlinecolor": "#2a3f5f",
             "gridcolor": "white",
             "linecolor": "white",
             "minorgridcolor": "white",
             "startlinecolor": "#2a3f5f"
            },
            "type": "carpet"
           }
          ],
          "choropleth": [
           {
            "colorbar": {
             "outlinewidth": 0,
             "ticks": ""
            },
            "type": "choropleth"
           }
          ],
          "contour": [
           {
            "colorbar": {
             "outlinewidth": 0,
             "ticks": ""
            },
            "colorscale": [
             [
              0,
              "#0d0887"
             ],
             [
              0.1111111111111111,
              "#46039f"
             ],
             [
              0.2222222222222222,
              "#7201a8"
             ],
             [
              0.3333333333333333,
              "#9c179e"
             ],
             [
              0.4444444444444444,
              "#bd3786"
             ],
             [
              0.5555555555555556,
              "#d8576b"
             ],
             [
              0.6666666666666666,
              "#ed7953"
             ],
             [
              0.7777777777777778,
              "#fb9f3a"
             ],
             [
              0.8888888888888888,
              "#fdca26"
             ],
             [
              1,
              "#f0f921"
             ]
            ],
            "type": "contour"
           }
          ],
          "contourcarpet": [
           {
            "colorbar": {
             "outlinewidth": 0,
             "ticks": ""
            },
            "type": "contourcarpet"
           }
          ],
          "heatmap": [
           {
            "colorbar": {
             "outlinewidth": 0,
             "ticks": ""
            },
            "colorscale": [
             [
              0,
              "#0d0887"
             ],
             [
              0.1111111111111111,
              "#46039f"
             ],
             [
              0.2222222222222222,
              "#7201a8"
             ],
             [
              0.3333333333333333,
              "#9c179e"
             ],
             [
              0.4444444444444444,
              "#bd3786"
             ],
             [
              0.5555555555555556,
              "#d8576b"
             ],
             [
              0.6666666666666666,
              "#ed7953"
             ],
             [
              0.7777777777777778,
              "#fb9f3a"
             ],
             [
              0.8888888888888888,
              "#fdca26"
             ],
             [
              1,
              "#f0f921"
             ]
            ],
            "type": "heatmap"
           }
          ],
          "heatmapgl": [
           {
            "colorbar": {
             "outlinewidth": 0,
             "ticks": ""
            },
            "colorscale": [
             [
              0,
              "#0d0887"
             ],
             [
              0.1111111111111111,
              "#46039f"
             ],
             [
              0.2222222222222222,
              "#7201a8"
             ],
             [
              0.3333333333333333,
              "#9c179e"
             ],
             [
              0.4444444444444444,
              "#bd3786"
             ],
             [
              0.5555555555555556,
              "#d8576b"
             ],
             [
              0.6666666666666666,
              "#ed7953"
             ],
             [
              0.7777777777777778,
              "#fb9f3a"
             ],
             [
              0.8888888888888888,
              "#fdca26"
             ],
             [
              1,
              "#f0f921"
             ]
            ],
            "type": "heatmapgl"
           }
          ],
          "histogram": [
           {
            "marker": {
             "pattern": {
              "fillmode": "overlay",
              "size": 10,
              "solidity": 0.2
             }
            },
            "type": "histogram"
           }
          ],
          "histogram2d": [
           {
            "colorbar": {
             "outlinewidth": 0,
             "ticks": ""
            },
            "colorscale": [
             [
              0,
              "#0d0887"
             ],
             [
              0.1111111111111111,
              "#46039f"
             ],
             [
              0.2222222222222222,
              "#7201a8"
             ],
             [
              0.3333333333333333,
              "#9c179e"
             ],
             [
              0.4444444444444444,
              "#bd3786"
             ],
             [
              0.5555555555555556,
              "#d8576b"
             ],
             [
              0.6666666666666666,
              "#ed7953"
             ],
             [
              0.7777777777777778,
              "#fb9f3a"
             ],
             [
              0.8888888888888888,
              "#fdca26"
             ],
             [
              1,
              "#f0f921"
             ]
            ],
            "type": "histogram2d"
           }
          ],
          "histogram2dcontour": [
           {
            "colorbar": {
             "outlinewidth": 0,
             "ticks": ""
            },
            "colorscale": [
             [
              0,
              "#0d0887"
             ],
             [
              0.1111111111111111,
              "#46039f"
             ],
             [
              0.2222222222222222,
              "#7201a8"
             ],
             [
              0.3333333333333333,
              "#9c179e"
             ],
             [
              0.4444444444444444,
              "#bd3786"
             ],
             [
              0.5555555555555556,
              "#d8576b"
             ],
             [
              0.6666666666666666,
              "#ed7953"
             ],
             [
              0.7777777777777778,
              "#fb9f3a"
             ],
             [
              0.8888888888888888,
              "#fdca26"
             ],
             [
              1,
              "#f0f921"
             ]
            ],
            "type": "histogram2dcontour"
           }
          ],
          "mesh3d": [
           {
            "colorbar": {
             "outlinewidth": 0,
             "ticks": ""
            },
            "type": "mesh3d"
           }
          ],
          "parcoords": [
           {
            "line": {
             "colorbar": {
              "outlinewidth": 0,
              "ticks": ""
             }
            },
            "type": "parcoords"
           }
          ],
          "pie": [
           {
            "automargin": true,
            "type": "pie"
           }
          ],
          "scatter": [
           {
            "fillpattern": {
             "fillmode": "overlay",
             "size": 10,
             "solidity": 0.2
            },
            "type": "scatter"
           }
          ],
          "scatter3d": [
           {
            "line": {
             "colorbar": {
              "outlinewidth": 0,
              "ticks": ""
             }
            },
            "marker": {
             "colorbar": {
              "outlinewidth": 0,
              "ticks": ""
             }
            },
            "type": "scatter3d"
           }
          ],
          "scattercarpet": [
           {
            "marker": {
             "colorbar": {
              "outlinewidth": 0,
              "ticks": ""
             }
            },
            "type": "scattercarpet"
           }
          ],
          "scattergeo": [
           {
            "marker": {
             "colorbar": {
              "outlinewidth": 0,
              "ticks": ""
             }
            },
            "type": "scattergeo"
           }
          ],
          "scattergl": [
           {
            "marker": {
             "colorbar": {
              "outlinewidth": 0,
              "ticks": ""
             }
            },
            "type": "scattergl"
           }
          ],
          "scattermapbox": [
           {
            "marker": {
             "colorbar": {
              "outlinewidth": 0,
              "ticks": ""
             }
            },
            "type": "scattermapbox"
           }
          ],
          "scatterpolar": [
           {
            "marker": {
             "colorbar": {
              "outlinewidth": 0,
              "ticks": ""
             }
            },
            "type": "scatterpolar"
           }
          ],
          "scatterpolargl": [
           {
            "marker": {
             "colorbar": {
              "outlinewidth": 0,
              "ticks": ""
             }
            },
            "type": "scatterpolargl"
           }
          ],
          "scatterternary": [
           {
            "marker": {
             "colorbar": {
              "outlinewidth": 0,
              "ticks": ""
             }
            },
            "type": "scatterternary"
           }
          ],
          "surface": [
           {
            "colorbar": {
             "outlinewidth": 0,
             "ticks": ""
            },
            "colorscale": [
             [
              0,
              "#0d0887"
             ],
             [
              0.1111111111111111,
              "#46039f"
             ],
             [
              0.2222222222222222,
              "#7201a8"
             ],
             [
              0.3333333333333333,
              "#9c179e"
             ],
             [
              0.4444444444444444,
              "#bd3786"
             ],
             [
              0.5555555555555556,
              "#d8576b"
             ],
             [
              0.6666666666666666,
              "#ed7953"
             ],
             [
              0.7777777777777778,
              "#fb9f3a"
             ],
             [
              0.8888888888888888,
              "#fdca26"
             ],
             [
              1,
              "#f0f921"
             ]
            ],
            "type": "surface"
           }
          ],
          "table": [
           {
            "cells": {
             "fill": {
              "color": "#EBF0F8"
             },
             "line": {
              "color": "white"
             }
            },
            "header": {
             "fill": {
              "color": "#C8D4E3"
             },
             "line": {
              "color": "white"
             }
            },
            "type": "table"
           }
          ]
         },
         "layout": {
          "annotationdefaults": {
           "arrowcolor": "#2a3f5f",
           "arrowhead": 0,
           "arrowwidth": 1
          },
          "autotypenumbers": "strict",
          "coloraxis": {
           "colorbar": {
            "outlinewidth": 0,
            "ticks": ""
           }
          },
          "colorscale": {
           "diverging": [
            [
             0,
             "#8e0152"
            ],
            [
             0.1,
             "#c51b7d"
            ],
            [
             0.2,
             "#de77ae"
            ],
            [
             0.3,
             "#f1b6da"
            ],
            [
             0.4,
             "#fde0ef"
            ],
            [
             0.5,
             "#f7f7f7"
            ],
            [
             0.6,
             "#e6f5d0"
            ],
            [
             0.7,
             "#b8e186"
            ],
            [
             0.8,
             "#7fbc41"
            ],
            [
             0.9,
             "#4d9221"
            ],
            [
             1,
             "#276419"
            ]
           ],
           "sequential": [
            [
             0,
             "#0d0887"
            ],
            [
             0.1111111111111111,
             "#46039f"
            ],
            [
             0.2222222222222222,
             "#7201a8"
            ],
            [
             0.3333333333333333,
             "#9c179e"
            ],
            [
             0.4444444444444444,
             "#bd3786"
            ],
            [
             0.5555555555555556,
             "#d8576b"
            ],
            [
             0.6666666666666666,
             "#ed7953"
            ],
            [
             0.7777777777777778,
             "#fb9f3a"
            ],
            [
             0.8888888888888888,
             "#fdca26"
            ],
            [
             1,
             "#f0f921"
            ]
           ],
           "sequentialminus": [
            [
             0,
             "#0d0887"
            ],
            [
             0.1111111111111111,
             "#46039f"
            ],
            [
             0.2222222222222222,
             "#7201a8"
            ],
            [
             0.3333333333333333,
             "#9c179e"
            ],
            [
             0.4444444444444444,
             "#bd3786"
            ],
            [
             0.5555555555555556,
             "#d8576b"
            ],
            [
             0.6666666666666666,
             "#ed7953"
            ],
            [
             0.7777777777777778,
             "#fb9f3a"
            ],
            [
             0.8888888888888888,
             "#fdca26"
            ],
            [
             1,
             "#f0f921"
            ]
           ]
          },
          "colorway": [
           "#636efa",
           "#EF553B",
           "#00cc96",
           "#ab63fa",
           "#FFA15A",
           "#19d3f3",
           "#FF6692",
           "#B6E880",
           "#FF97FF",
           "#FECB52"
          ],
          "font": {
           "color": "#2a3f5f"
          },
          "geo": {
           "bgcolor": "white",
           "lakecolor": "white",
           "landcolor": "#E5ECF6",
           "showlakes": true,
           "showland": true,
           "subunitcolor": "white"
          },
          "hoverlabel": {
           "align": "left"
          },
          "hovermode": "closest",
          "mapbox": {
           "style": "light"
          },
          "paper_bgcolor": "white",
          "plot_bgcolor": "#E5ECF6",
          "polar": {
           "angularaxis": {
            "gridcolor": "white",
            "linecolor": "white",
            "ticks": ""
           },
           "bgcolor": "#E5ECF6",
           "radialaxis": {
            "gridcolor": "white",
            "linecolor": "white",
            "ticks": ""
           }
          },
          "scene": {
           "xaxis": {
            "backgroundcolor": "#E5ECF6",
            "gridcolor": "white",
            "gridwidth": 2,
            "linecolor": "white",
            "showbackground": true,
            "ticks": "",
            "zerolinecolor": "white"
           },
           "yaxis": {
            "backgroundcolor": "#E5ECF6",
            "gridcolor": "white",
            "gridwidth": 2,
            "linecolor": "white",
            "showbackground": true,
            "ticks": "",
            "zerolinecolor": "white"
           },
           "zaxis": {
            "backgroundcolor": "#E5ECF6",
            "gridcolor": "white",
            "gridwidth": 2,
            "linecolor": "white",
            "showbackground": true,
            "ticks": "",
            "zerolinecolor": "white"
           }
          },
          "shapedefaults": {
           "line": {
            "color": "#2a3f5f"
           }
          },
          "ternary": {
           "aaxis": {
            "gridcolor": "white",
            "linecolor": "white",
            "ticks": ""
           },
           "baxis": {
            "gridcolor": "white",
            "linecolor": "white",
            "ticks": ""
           },
           "bgcolor": "#E5ECF6",
           "caxis": {
            "gridcolor": "white",
            "linecolor": "white",
            "ticks": ""
           }
          },
          "title": {
           "x": 0.05
          },
          "xaxis": {
           "automargin": true,
           "gridcolor": "white",
           "linecolor": "white",
           "ticks": "",
           "title": {
            "standoff": 15
           },
           "zerolinecolor": "white",
           "zerolinewidth": 2
          },
          "yaxis": {
           "automargin": true,
           "gridcolor": "white",
           "linecolor": "white",
           "ticks": "",
           "title": {
            "standoff": 15
           },
           "zerolinecolor": "white",
           "zerolinewidth": 2
          }
         }
        },
        "title": {
         "text": "Distribución del tamaño de las palabras"
        },
        "violinmode": "group",
        "xaxis": {
         "anchor": "y",
         "domain": [
          0,
          1
         ],
         "title": {
          "text": ""
         }
        },
        "yaxis": {
         "anchor": "x",
         "domain": [
          0,
          1
         ],
         "title": {
          "text": "Tamaño de palabra"
         }
        }
       }
      }
     },
     "metadata": {},
     "output_type": "display_data"
    }
   ],
   "source": [
    "import plotly.express as pt\n",
    "\n",
    "fig = pt.violin([len(word) for word in words], box=True, title=\"Distribución del tamaño de las palabras\")\n",
    "fig.update_layout(yaxis_title=\"Tamaño de palabra\")\n",
    "fig.update_layout(xaxis_title=\"\")\n",
    "fig.show()"
   ]
  },
  {
   "attachments": {},
   "cell_type": "markdown",
   "metadata": {},
   "source": [
    "Quitamos los signos de punctuación para observar como cambia la distribución."
   ]
  },
  {
   "cell_type": "code",
   "execution_count": 34,
   "metadata": {},
   "outputs": [
    {
     "data": {
      "application/vnd.plotly.v1+json": {
       "config": {
        "plotlyServerURL": "https://plot.ly"
       },
       "data": [
        {
         "alignmentgroup": "True",
         "box": {
          "visible": true
         },
         "hovertemplate": "variable=%{x}<br>value=%{y}<extra></extra>",
         "legendgroup": "",
         "marker": {
          "color": "#636efa"
         },
         "name": "",
         "offsetgroup": "",
         "orientation": "v",
         "scalegroup": "True",
         "showlegend": false,
         "type": "violin",
         "x": [
          "0",
          "0",
          "0",
          "0",
          "0",
          "0",
          "0",
          "0",
          "0",
          "0",
          "0",
          "0",
          "0",
          "0",
          "0",
          "0",
          "0",
          "0",
          "0",
          "0",
          "0",
          "0",
          "0",
          "0",
          "0",
          "0",
          "0",
          "0",
          "0",
          "0",
          "0",
          "0",
          "0",
          "0",
          "0",
          "0",
          "0",
          "0",
          "0",
          "0",
          "0",
          "0",
          "0",
          "0",
          "0",
          "0",
          "0",
          "0",
          "0",
          "0",
          "0",
          "0",
          "0",
          "0",
          "0",
          "0",
          "0",
          "0",
          "0",
          "0",
          "0",
          "0",
          "0",
          "0",
          "0",
          "0",
          "0",
          "0",
          "0",
          "0",
          "0",
          "0",
          "0",
          "0",
          "0",
          "0",
          "0",
          "0",
          "0",
          "0",
          "0",
          "0",
          "0",
          "0",
          "0",
          "0",
          "0",
          "0",
          "0",
          "0",
          "0",
          "0",
          "0",
          "0",
          "0",
          "0",
          "0",
          "0",
          "0",
          "0",
          "0",
          "0",
          "0",
          "0",
          "0",
          "0",
          "0",
          "0",
          "0",
          "0",
          "0",
          "0",
          "0",
          "0",
          "0",
          "0",
          "0",
          "0",
          "0",
          "0",
          "0",
          "0",
          "0",
          "0",
          "0",
          "0",
          "0",
          "0",
          "0",
          "0",
          "0",
          "0",
          "0",
          "0",
          "0",
          "0",
          "0",
          "0",
          "0",
          "0",
          "0",
          "0",
          "0",
          "0",
          "0",
          "0",
          "0",
          "0",
          "0",
          "0",
          "0",
          "0",
          "0",
          "0",
          "0",
          "0",
          "0",
          "0",
          "0",
          "0",
          "0",
          "0",
          "0",
          "0",
          "0",
          "0",
          "0",
          "0",
          "0",
          "0",
          "0",
          "0",
          "0",
          "0",
          "0",
          "0",
          "0",
          "0",
          "0",
          "0",
          "0",
          "0",
          "0"
         ],
         "x0": " ",
         "xaxis": "x",
         "y": [
          2,
          2,
          7,
          3,
          5,
          3,
          8,
          1,
          9,
          1,
          12,
          1,
          4,
          3,
          10,
          2,
          4,
          8,
          3,
          10,
          6,
          1,
          2,
          6,
          2,
          6,
          7,
          3,
          12,
          8,
          9,
          10,
          2,
          3,
          5,
          3,
          13,
          1,
          2,
          5,
          3,
          12,
          4,
          8,
          2,
          7,
          9,
          2,
          6,
          4,
          6,
          7,
          2,
          4,
          2,
          3,
          5,
          8,
          10,
          6,
          9,
          2,
          6,
          10,
          5,
          3,
          5,
          2,
          5,
          2,
          5,
          3,
          2,
          7,
          5,
          2,
          8,
          3,
          2,
          5,
          3,
          10,
          3,
          13,
          16,
          12,
          3,
          3,
          7,
          6,
          1,
          4,
          8,
          3,
          5,
          3,
          3,
          3,
          2,
          8,
          3,
          2,
          12,
          3,
          3,
          11,
          3,
          2,
          8,
          4,
          2,
          3,
          9,
          2,
          7,
          10,
          3,
          3,
          10,
          11,
          1,
          4,
          5,
          10,
          2,
          3,
          11,
          4,
          4,
          7,
          4,
          3,
          2,
          10,
          7,
          1,
          8,
          3,
          8,
          2,
          7,
          9,
          10,
          14,
          12,
          2,
          6,
          1,
          7,
          5,
          4,
          4,
          4,
          10,
          5,
          2,
          3,
          1,
          9,
          3,
          10,
          6,
          7,
          9,
          3,
          4,
          4,
          7,
          4,
          10,
          4,
          8,
          7,
          7,
          1,
          10,
          8,
          1,
          5,
          7,
          3,
          5,
          4
         ],
         "y0": " ",
         "yaxis": "y"
        }
       ],
       "layout": {
        "legend": {
         "tracegroupgap": 0
        },
        "template": {
         "data": {
          "bar": [
           {
            "error_x": {
             "color": "#2a3f5f"
            },
            "error_y": {
             "color": "#2a3f5f"
            },
            "marker": {
             "line": {
              "color": "#E5ECF6",
              "width": 0.5
             },
             "pattern": {
              "fillmode": "overlay",
              "size": 10,
              "solidity": 0.2
             }
            },
            "type": "bar"
           }
          ],
          "barpolar": [
           {
            "marker": {
             "line": {
              "color": "#E5ECF6",
              "width": 0.5
             },
             "pattern": {
              "fillmode": "overlay",
              "size": 10,
              "solidity": 0.2
             }
            },
            "type": "barpolar"
           }
          ],
          "carpet": [
           {
            "aaxis": {
             "endlinecolor": "#2a3f5f",
             "gridcolor": "white",
             "linecolor": "white",
             "minorgridcolor": "white",
             "startlinecolor": "#2a3f5f"
            },
            "baxis": {
             "endlinecolor": "#2a3f5f",
             "gridcolor": "white",
             "linecolor": "white",
             "minorgridcolor": "white",
             "startlinecolor": "#2a3f5f"
            },
            "type": "carpet"
           }
          ],
          "choropleth": [
           {
            "colorbar": {
             "outlinewidth": 0,
             "ticks": ""
            },
            "type": "choropleth"
           }
          ],
          "contour": [
           {
            "colorbar": {
             "outlinewidth": 0,
             "ticks": ""
            },
            "colorscale": [
             [
              0,
              "#0d0887"
             ],
             [
              0.1111111111111111,
              "#46039f"
             ],
             [
              0.2222222222222222,
              "#7201a8"
             ],
             [
              0.3333333333333333,
              "#9c179e"
             ],
             [
              0.4444444444444444,
              "#bd3786"
             ],
             [
              0.5555555555555556,
              "#d8576b"
             ],
             [
              0.6666666666666666,
              "#ed7953"
             ],
             [
              0.7777777777777778,
              "#fb9f3a"
             ],
             [
              0.8888888888888888,
              "#fdca26"
             ],
             [
              1,
              "#f0f921"
             ]
            ],
            "type": "contour"
           }
          ],
          "contourcarpet": [
           {
            "colorbar": {
             "outlinewidth": 0,
             "ticks": ""
            },
            "type": "contourcarpet"
           }
          ],
          "heatmap": [
           {
            "colorbar": {
             "outlinewidth": 0,
             "ticks": ""
            },
            "colorscale": [
             [
              0,
              "#0d0887"
             ],
             [
              0.1111111111111111,
              "#46039f"
             ],
             [
              0.2222222222222222,
              "#7201a8"
             ],
             [
              0.3333333333333333,
              "#9c179e"
             ],
             [
              0.4444444444444444,
              "#bd3786"
             ],
             [
              0.5555555555555556,
              "#d8576b"
             ],
             [
              0.6666666666666666,
              "#ed7953"
             ],
             [
              0.7777777777777778,
              "#fb9f3a"
             ],
             [
              0.8888888888888888,
              "#fdca26"
             ],
             [
              1,
              "#f0f921"
             ]
            ],
            "type": "heatmap"
           }
          ],
          "heatmapgl": [
           {
            "colorbar": {
             "outlinewidth": 0,
             "ticks": ""
            },
            "colorscale": [
             [
              0,
              "#0d0887"
             ],
             [
              0.1111111111111111,
              "#46039f"
             ],
             [
              0.2222222222222222,
              "#7201a8"
             ],
             [
              0.3333333333333333,
              "#9c179e"
             ],
             [
              0.4444444444444444,
              "#bd3786"
             ],
             [
              0.5555555555555556,
              "#d8576b"
             ],
             [
              0.6666666666666666,
              "#ed7953"
             ],
             [
              0.7777777777777778,
              "#fb9f3a"
             ],
             [
              0.8888888888888888,
              "#fdca26"
             ],
             [
              1,
              "#f0f921"
             ]
            ],
            "type": "heatmapgl"
           }
          ],
          "histogram": [
           {
            "marker": {
             "pattern": {
              "fillmode": "overlay",
              "size": 10,
              "solidity": 0.2
             }
            },
            "type": "histogram"
           }
          ],
          "histogram2d": [
           {
            "colorbar": {
             "outlinewidth": 0,
             "ticks": ""
            },
            "colorscale": [
             [
              0,
              "#0d0887"
             ],
             [
              0.1111111111111111,
              "#46039f"
             ],
             [
              0.2222222222222222,
              "#7201a8"
             ],
             [
              0.3333333333333333,
              "#9c179e"
             ],
             [
              0.4444444444444444,
              "#bd3786"
             ],
             [
              0.5555555555555556,
              "#d8576b"
             ],
             [
              0.6666666666666666,
              "#ed7953"
             ],
             [
              0.7777777777777778,
              "#fb9f3a"
             ],
             [
              0.8888888888888888,
              "#fdca26"
             ],
             [
              1,
              "#f0f921"
             ]
            ],
            "type": "histogram2d"
           }
          ],
          "histogram2dcontour": [
           {
            "colorbar": {
             "outlinewidth": 0,
             "ticks": ""
            },
            "colorscale": [
             [
              0,
              "#0d0887"
             ],
             [
              0.1111111111111111,
              "#46039f"
             ],
             [
              0.2222222222222222,
              "#7201a8"
             ],
             [
              0.3333333333333333,
              "#9c179e"
             ],
             [
              0.4444444444444444,
              "#bd3786"
             ],
             [
              0.5555555555555556,
              "#d8576b"
             ],
             [
              0.6666666666666666,
              "#ed7953"
             ],
             [
              0.7777777777777778,
              "#fb9f3a"
             ],
             [
              0.8888888888888888,
              "#fdca26"
             ],
             [
              1,
              "#f0f921"
             ]
            ],
            "type": "histogram2dcontour"
           }
          ],
          "mesh3d": [
           {
            "colorbar": {
             "outlinewidth": 0,
             "ticks": ""
            },
            "type": "mesh3d"
           }
          ],
          "parcoords": [
           {
            "line": {
             "colorbar": {
              "outlinewidth": 0,
              "ticks": ""
             }
            },
            "type": "parcoords"
           }
          ],
          "pie": [
           {
            "automargin": true,
            "type": "pie"
           }
          ],
          "scatter": [
           {
            "fillpattern": {
             "fillmode": "overlay",
             "size": 10,
             "solidity": 0.2
            },
            "type": "scatter"
           }
          ],
          "scatter3d": [
           {
            "line": {
             "colorbar": {
              "outlinewidth": 0,
              "ticks": ""
             }
            },
            "marker": {
             "colorbar": {
              "outlinewidth": 0,
              "ticks": ""
             }
            },
            "type": "scatter3d"
           }
          ],
          "scattercarpet": [
           {
            "marker": {
             "colorbar": {
              "outlinewidth": 0,
              "ticks": ""
             }
            },
            "type": "scattercarpet"
           }
          ],
          "scattergeo": [
           {
            "marker": {
             "colorbar": {
              "outlinewidth": 0,
              "ticks": ""
             }
            },
            "type": "scattergeo"
           }
          ],
          "scattergl": [
           {
            "marker": {
             "colorbar": {
              "outlinewidth": 0,
              "ticks": ""
             }
            },
            "type": "scattergl"
           }
          ],
          "scattermapbox": [
           {
            "marker": {
             "colorbar": {
              "outlinewidth": 0,
              "ticks": ""
             }
            },
            "type": "scattermapbox"
           }
          ],
          "scatterpolar": [
           {
            "marker": {
             "colorbar": {
              "outlinewidth": 0,
              "ticks": ""
             }
            },
            "type": "scatterpolar"
           }
          ],
          "scatterpolargl": [
           {
            "marker": {
             "colorbar": {
              "outlinewidth": 0,
              "ticks": ""
             }
            },
            "type": "scatterpolargl"
           }
          ],
          "scatterternary": [
           {
            "marker": {
             "colorbar": {
              "outlinewidth": 0,
              "ticks": ""
             }
            },
            "type": "scatterternary"
           }
          ],
          "surface": [
           {
            "colorbar": {
             "outlinewidth": 0,
             "ticks": ""
            },
            "colorscale": [
             [
              0,
              "#0d0887"
             ],
             [
              0.1111111111111111,
              "#46039f"
             ],
             [
              0.2222222222222222,
              "#7201a8"
             ],
             [
              0.3333333333333333,
              "#9c179e"
             ],
             [
              0.4444444444444444,
              "#bd3786"
             ],
             [
              0.5555555555555556,
              "#d8576b"
             ],
             [
              0.6666666666666666,
              "#ed7953"
             ],
             [
              0.7777777777777778,
              "#fb9f3a"
             ],
             [
              0.8888888888888888,
              "#fdca26"
             ],
             [
              1,
              "#f0f921"
             ]
            ],
            "type": "surface"
           }
          ],
          "table": [
           {
            "cells": {
             "fill": {
              "color": "#EBF0F8"
             },
             "line": {
              "color": "white"
             }
            },
            "header": {
             "fill": {
              "color": "#C8D4E3"
             },
             "line": {
              "color": "white"
             }
            },
            "type": "table"
           }
          ]
         },
         "layout": {
          "annotationdefaults": {
           "arrowcolor": "#2a3f5f",
           "arrowhead": 0,
           "arrowwidth": 1
          },
          "autotypenumbers": "strict",
          "coloraxis": {
           "colorbar": {
            "outlinewidth": 0,
            "ticks": ""
           }
          },
          "colorscale": {
           "diverging": [
            [
             0,
             "#8e0152"
            ],
            [
             0.1,
             "#c51b7d"
            ],
            [
             0.2,
             "#de77ae"
            ],
            [
             0.3,
             "#f1b6da"
            ],
            [
             0.4,
             "#fde0ef"
            ],
            [
             0.5,
             "#f7f7f7"
            ],
            [
             0.6,
             "#e6f5d0"
            ],
            [
             0.7,
             "#b8e186"
            ],
            [
             0.8,
             "#7fbc41"
            ],
            [
             0.9,
             "#4d9221"
            ],
            [
             1,
             "#276419"
            ]
           ],
           "sequential": [
            [
             0,
             "#0d0887"
            ],
            [
             0.1111111111111111,
             "#46039f"
            ],
            [
             0.2222222222222222,
             "#7201a8"
            ],
            [
             0.3333333333333333,
             "#9c179e"
            ],
            [
             0.4444444444444444,
             "#bd3786"
            ],
            [
             0.5555555555555556,
             "#d8576b"
            ],
            [
             0.6666666666666666,
             "#ed7953"
            ],
            [
             0.7777777777777778,
             "#fb9f3a"
            ],
            [
             0.8888888888888888,
             "#fdca26"
            ],
            [
             1,
             "#f0f921"
            ]
           ],
           "sequentialminus": [
            [
             0,
             "#0d0887"
            ],
            [
             0.1111111111111111,
             "#46039f"
            ],
            [
             0.2222222222222222,
             "#7201a8"
            ],
            [
             0.3333333333333333,
             "#9c179e"
            ],
            [
             0.4444444444444444,
             "#bd3786"
            ],
            [
             0.5555555555555556,
             "#d8576b"
            ],
            [
             0.6666666666666666,
             "#ed7953"
            ],
            [
             0.7777777777777778,
             "#fb9f3a"
            ],
            [
             0.8888888888888888,
             "#fdca26"
            ],
            [
             1,
             "#f0f921"
            ]
           ]
          },
          "colorway": [
           "#636efa",
           "#EF553B",
           "#00cc96",
           "#ab63fa",
           "#FFA15A",
           "#19d3f3",
           "#FF6692",
           "#B6E880",
           "#FF97FF",
           "#FECB52"
          ],
          "font": {
           "color": "#2a3f5f"
          },
          "geo": {
           "bgcolor": "white",
           "lakecolor": "white",
           "landcolor": "#E5ECF6",
           "showlakes": true,
           "showland": true,
           "subunitcolor": "white"
          },
          "hoverlabel": {
           "align": "left"
          },
          "hovermode": "closest",
          "mapbox": {
           "style": "light"
          },
          "paper_bgcolor": "white",
          "plot_bgcolor": "#E5ECF6",
          "polar": {
           "angularaxis": {
            "gridcolor": "white",
            "linecolor": "white",
            "ticks": ""
           },
           "bgcolor": "#E5ECF6",
           "radialaxis": {
            "gridcolor": "white",
            "linecolor": "white",
            "ticks": ""
           }
          },
          "scene": {
           "xaxis": {
            "backgroundcolor": "#E5ECF6",
            "gridcolor": "white",
            "gridwidth": 2,
            "linecolor": "white",
            "showbackground": true,
            "ticks": "",
            "zerolinecolor": "white"
           },
           "yaxis": {
            "backgroundcolor": "#E5ECF6",
            "gridcolor": "white",
            "gridwidth": 2,
            "linecolor": "white",
            "showbackground": true,
            "ticks": "",
            "zerolinecolor": "white"
           },
           "zaxis": {
            "backgroundcolor": "#E5ECF6",
            "gridcolor": "white",
            "gridwidth": 2,
            "linecolor": "white",
            "showbackground": true,
            "ticks": "",
            "zerolinecolor": "white"
           }
          },
          "shapedefaults": {
           "line": {
            "color": "#2a3f5f"
           }
          },
          "ternary": {
           "aaxis": {
            "gridcolor": "white",
            "linecolor": "white",
            "ticks": ""
           },
           "baxis": {
            "gridcolor": "white",
            "linecolor": "white",
            "ticks": ""
           },
           "bgcolor": "#E5ECF6",
           "caxis": {
            "gridcolor": "white",
            "linecolor": "white",
            "ticks": ""
           }
          },
          "title": {
           "x": 0.05
          },
          "xaxis": {
           "automargin": true,
           "gridcolor": "white",
           "linecolor": "white",
           "ticks": "",
           "title": {
            "standoff": 15
           },
           "zerolinecolor": "white",
           "zerolinewidth": 2
          },
          "yaxis": {
           "automargin": true,
           "gridcolor": "white",
           "linecolor": "white",
           "ticks": "",
           "title": {
            "standoff": 15
           },
           "zerolinecolor": "white",
           "zerolinewidth": 2
          }
         }
        },
        "title": {
         "text": "Distribución del tamaño de las palabras sin sígnos de punctuación."
        },
        "violinmode": "group",
        "xaxis": {
         "anchor": "y",
         "domain": [
          0,
          1
         ],
         "title": {
          "text": ""
         }
        },
        "yaxis": {
         "anchor": "x",
         "domain": [
          0,
          1
         ],
         "title": {
          "text": "Tamaño de palabra"
         }
        }
       }
      }
     },
     "metadata": {},
     "output_type": "display_data"
    }
   ],
   "source": [
    "import plotly.express as pt\n",
    "import re\n",
    "\n",
    "def stripWord(word: str) -> str:\n",
    "    \"\"\" Elimina los signos de punctuación de una palabra. \"\"\"\n",
    "    return re.sub('\\W+','', word)\n",
    "\n",
    "fig = pt.violin([len(word) for word in map(stripWord, words) if word], box=True, \n",
    "                title=\"Distribución del tamaño de las palabras sin sígnos de punctuación.\")\n",
    "fig.update_layout(yaxis_title=\"Tamaño de palabra\")\n",
    "fig.update_layout(xaxis_title=\"\")\n",
    "fig.show()"
   ]
  },
  {
   "attachments": {},
   "cell_type": "markdown",
   "metadata": {},
   "source": [
    "### Distribución del tamaño de las oraciones"
   ]
  },
  {
   "cell_type": "code",
   "execution_count": 35,
   "metadata": {},
   "outputs": [
    {
     "data": {
      "application/vnd.plotly.v1+json": {
       "config": {
        "plotlyServerURL": "https://plot.ly"
       },
       "data": [
        {
         "alignmentgroup": "True",
         "box": {
          "visible": true
         },
         "hovertemplate": "variable=%{x}<br>value=%{y}<extra></extra>",
         "legendgroup": "",
         "marker": {
          "color": "#636efa"
         },
         "name": "",
         "offsetgroup": "",
         "orientation": "v",
         "scalegroup": "True",
         "showlegend": false,
         "type": "violin",
         "x": [
          "0",
          "0",
          "0",
          "0",
          "0",
          "0"
         ],
         "x0": " ",
         "xaxis": "x",
         "y": [
          97,
          30,
          15,
          27,
          41,
          9
         ],
         "y0": " ",
         "yaxis": "y"
        }
       ],
       "layout": {
        "legend": {
         "tracegroupgap": 0
        },
        "template": {
         "data": {
          "bar": [
           {
            "error_x": {
             "color": "#2a3f5f"
            },
            "error_y": {
             "color": "#2a3f5f"
            },
            "marker": {
             "line": {
              "color": "#E5ECF6",
              "width": 0.5
             },
             "pattern": {
              "fillmode": "overlay",
              "size": 10,
              "solidity": 0.2
             }
            },
            "type": "bar"
           }
          ],
          "barpolar": [
           {
            "marker": {
             "line": {
              "color": "#E5ECF6",
              "width": 0.5
             },
             "pattern": {
              "fillmode": "overlay",
              "size": 10,
              "solidity": 0.2
             }
            },
            "type": "barpolar"
           }
          ],
          "carpet": [
           {
            "aaxis": {
             "endlinecolor": "#2a3f5f",
             "gridcolor": "white",
             "linecolor": "white",
             "minorgridcolor": "white",
             "startlinecolor": "#2a3f5f"
            },
            "baxis": {
             "endlinecolor": "#2a3f5f",
             "gridcolor": "white",
             "linecolor": "white",
             "minorgridcolor": "white",
             "startlinecolor": "#2a3f5f"
            },
            "type": "carpet"
           }
          ],
          "choropleth": [
           {
            "colorbar": {
             "outlinewidth": 0,
             "ticks": ""
            },
            "type": "choropleth"
           }
          ],
          "contour": [
           {
            "colorbar": {
             "outlinewidth": 0,
             "ticks": ""
            },
            "colorscale": [
             [
              0,
              "#0d0887"
             ],
             [
              0.1111111111111111,
              "#46039f"
             ],
             [
              0.2222222222222222,
              "#7201a8"
             ],
             [
              0.3333333333333333,
              "#9c179e"
             ],
             [
              0.4444444444444444,
              "#bd3786"
             ],
             [
              0.5555555555555556,
              "#d8576b"
             ],
             [
              0.6666666666666666,
              "#ed7953"
             ],
             [
              0.7777777777777778,
              "#fb9f3a"
             ],
             [
              0.8888888888888888,
              "#fdca26"
             ],
             [
              1,
              "#f0f921"
             ]
            ],
            "type": "contour"
           }
          ],
          "contourcarpet": [
           {
            "colorbar": {
             "outlinewidth": 0,
             "ticks": ""
            },
            "type": "contourcarpet"
           }
          ],
          "heatmap": [
           {
            "colorbar": {
             "outlinewidth": 0,
             "ticks": ""
            },
            "colorscale": [
             [
              0,
              "#0d0887"
             ],
             [
              0.1111111111111111,
              "#46039f"
             ],
             [
              0.2222222222222222,
              "#7201a8"
             ],
             [
              0.3333333333333333,
              "#9c179e"
             ],
             [
              0.4444444444444444,
              "#bd3786"
             ],
             [
              0.5555555555555556,
              "#d8576b"
             ],
             [
              0.6666666666666666,
              "#ed7953"
             ],
             [
              0.7777777777777778,
              "#fb9f3a"
             ],
             [
              0.8888888888888888,
              "#fdca26"
             ],
             [
              1,
              "#f0f921"
             ]
            ],
            "type": "heatmap"
           }
          ],
          "heatmapgl": [
           {
            "colorbar": {
             "outlinewidth": 0,
             "ticks": ""
            },
            "colorscale": [
             [
              0,
              "#0d0887"
             ],
             [
              0.1111111111111111,
              "#46039f"
             ],
             [
              0.2222222222222222,
              "#7201a8"
             ],
             [
              0.3333333333333333,
              "#9c179e"
             ],
             [
              0.4444444444444444,
              "#bd3786"
             ],
             [
              0.5555555555555556,
              "#d8576b"
             ],
             [
              0.6666666666666666,
              "#ed7953"
             ],
             [
              0.7777777777777778,
              "#fb9f3a"
             ],
             [
              0.8888888888888888,
              "#fdca26"
             ],
             [
              1,
              "#f0f921"
             ]
            ],
            "type": "heatmapgl"
           }
          ],
          "histogram": [
           {
            "marker": {
             "pattern": {
              "fillmode": "overlay",
              "size": 10,
              "solidity": 0.2
             }
            },
            "type": "histogram"
           }
          ],
          "histogram2d": [
           {
            "colorbar": {
             "outlinewidth": 0,
             "ticks": ""
            },
            "colorscale": [
             [
              0,
              "#0d0887"
             ],
             [
              0.1111111111111111,
              "#46039f"
             ],
             [
              0.2222222222222222,
              "#7201a8"
             ],
             [
              0.3333333333333333,
              "#9c179e"
             ],
             [
              0.4444444444444444,
              "#bd3786"
             ],
             [
              0.5555555555555556,
              "#d8576b"
             ],
             [
              0.6666666666666666,
              "#ed7953"
             ],
             [
              0.7777777777777778,
              "#fb9f3a"
             ],
             [
              0.8888888888888888,
              "#fdca26"
             ],
             [
              1,
              "#f0f921"
             ]
            ],
            "type": "histogram2d"
           }
          ],
          "histogram2dcontour": [
           {
            "colorbar": {
             "outlinewidth": 0,
             "ticks": ""
            },
            "colorscale": [
             [
              0,
              "#0d0887"
             ],
             [
              0.1111111111111111,
              "#46039f"
             ],
             [
              0.2222222222222222,
              "#7201a8"
             ],
             [
              0.3333333333333333,
              "#9c179e"
             ],
             [
              0.4444444444444444,
              "#bd3786"
             ],
             [
              0.5555555555555556,
              "#d8576b"
             ],
             [
              0.6666666666666666,
              "#ed7953"
             ],
             [
              0.7777777777777778,
              "#fb9f3a"
             ],
             [
              0.8888888888888888,
              "#fdca26"
             ],
             [
              1,
              "#f0f921"
             ]
            ],
            "type": "histogram2dcontour"
           }
          ],
          "mesh3d": [
           {
            "colorbar": {
             "outlinewidth": 0,
             "ticks": ""
            },
            "type": "mesh3d"
           }
          ],
          "parcoords": [
           {
            "line": {
             "colorbar": {
              "outlinewidth": 0,
              "ticks": ""
             }
            },
            "type": "parcoords"
           }
          ],
          "pie": [
           {
            "automargin": true,
            "type": "pie"
           }
          ],
          "scatter": [
           {
            "fillpattern": {
             "fillmode": "overlay",
             "size": 10,
             "solidity": 0.2
            },
            "type": "scatter"
           }
          ],
          "scatter3d": [
           {
            "line": {
             "colorbar": {
              "outlinewidth": 0,
              "ticks": ""
             }
            },
            "marker": {
             "colorbar": {
              "outlinewidth": 0,
              "ticks": ""
             }
            },
            "type": "scatter3d"
           }
          ],
          "scattercarpet": [
           {
            "marker": {
             "colorbar": {
              "outlinewidth": 0,
              "ticks": ""
             }
            },
            "type": "scattercarpet"
           }
          ],
          "scattergeo": [
           {
            "marker": {
             "colorbar": {
              "outlinewidth": 0,
              "ticks": ""
             }
            },
            "type": "scattergeo"
           }
          ],
          "scattergl": [
           {
            "marker": {
             "colorbar": {
              "outlinewidth": 0,
              "ticks": ""
             }
            },
            "type": "scattergl"
           }
          ],
          "scattermapbox": [
           {
            "marker": {
             "colorbar": {
              "outlinewidth": 0,
              "ticks": ""
             }
            },
            "type": "scattermapbox"
           }
          ],
          "scatterpolar": [
           {
            "marker": {
             "colorbar": {
              "outlinewidth": 0,
              "ticks": ""
             }
            },
            "type": "scatterpolar"
           }
          ],
          "scatterpolargl": [
           {
            "marker": {
             "colorbar": {
              "outlinewidth": 0,
              "ticks": ""
             }
            },
            "type": "scatterpolargl"
           }
          ],
          "scatterternary": [
           {
            "marker": {
             "colorbar": {
              "outlinewidth": 0,
              "ticks": ""
             }
            },
            "type": "scatterternary"
           }
          ],
          "surface": [
           {
            "colorbar": {
             "outlinewidth": 0,
             "ticks": ""
            },
            "colorscale": [
             [
              0,
              "#0d0887"
             ],
             [
              0.1111111111111111,
              "#46039f"
             ],
             [
              0.2222222222222222,
              "#7201a8"
             ],
             [
              0.3333333333333333,
              "#9c179e"
             ],
             [
              0.4444444444444444,
              "#bd3786"
             ],
             [
              0.5555555555555556,
              "#d8576b"
             ],
             [
              0.6666666666666666,
              "#ed7953"
             ],
             [
              0.7777777777777778,
              "#fb9f3a"
             ],
             [
              0.8888888888888888,
              "#fdca26"
             ],
             [
              1,
              "#f0f921"
             ]
            ],
            "type": "surface"
           }
          ],
          "table": [
           {
            "cells": {
             "fill": {
              "color": "#EBF0F8"
             },
             "line": {
              "color": "white"
             }
            },
            "header": {
             "fill": {
              "color": "#C8D4E3"
             },
             "line": {
              "color": "white"
             }
            },
            "type": "table"
           }
          ]
         },
         "layout": {
          "annotationdefaults": {
           "arrowcolor": "#2a3f5f",
           "arrowhead": 0,
           "arrowwidth": 1
          },
          "autotypenumbers": "strict",
          "coloraxis": {
           "colorbar": {
            "outlinewidth": 0,
            "ticks": ""
           }
          },
          "colorscale": {
           "diverging": [
            [
             0,
             "#8e0152"
            ],
            [
             0.1,
             "#c51b7d"
            ],
            [
             0.2,
             "#de77ae"
            ],
            [
             0.3,
             "#f1b6da"
            ],
            [
             0.4,
             "#fde0ef"
            ],
            [
             0.5,
             "#f7f7f7"
            ],
            [
             0.6,
             "#e6f5d0"
            ],
            [
             0.7,
             "#b8e186"
            ],
            [
             0.8,
             "#7fbc41"
            ],
            [
             0.9,
             "#4d9221"
            ],
            [
             1,
             "#276419"
            ]
           ],
           "sequential": [
            [
             0,
             "#0d0887"
            ],
            [
             0.1111111111111111,
             "#46039f"
            ],
            [
             0.2222222222222222,
             "#7201a8"
            ],
            [
             0.3333333333333333,
             "#9c179e"
            ],
            [
             0.4444444444444444,
             "#bd3786"
            ],
            [
             0.5555555555555556,
             "#d8576b"
            ],
            [
             0.6666666666666666,
             "#ed7953"
            ],
            [
             0.7777777777777778,
             "#fb9f3a"
            ],
            [
             0.8888888888888888,
             "#fdca26"
            ],
            [
             1,
             "#f0f921"
            ]
           ],
           "sequentialminus": [
            [
             0,
             "#0d0887"
            ],
            [
             0.1111111111111111,
             "#46039f"
            ],
            [
             0.2222222222222222,
             "#7201a8"
            ],
            [
             0.3333333333333333,
             "#9c179e"
            ],
            [
             0.4444444444444444,
             "#bd3786"
            ],
            [
             0.5555555555555556,
             "#d8576b"
            ],
            [
             0.6666666666666666,
             "#ed7953"
            ],
            [
             0.7777777777777778,
             "#fb9f3a"
            ],
            [
             0.8888888888888888,
             "#fdca26"
            ],
            [
             1,
             "#f0f921"
            ]
           ]
          },
          "colorway": [
           "#636efa",
           "#EF553B",
           "#00cc96",
           "#ab63fa",
           "#FFA15A",
           "#19d3f3",
           "#FF6692",
           "#B6E880",
           "#FF97FF",
           "#FECB52"
          ],
          "font": {
           "color": "#2a3f5f"
          },
          "geo": {
           "bgcolor": "white",
           "lakecolor": "white",
           "landcolor": "#E5ECF6",
           "showlakes": true,
           "showland": true,
           "subunitcolor": "white"
          },
          "hoverlabel": {
           "align": "left"
          },
          "hovermode": "closest",
          "mapbox": {
           "style": "light"
          },
          "paper_bgcolor": "white",
          "plot_bgcolor": "#E5ECF6",
          "polar": {
           "angularaxis": {
            "gridcolor": "white",
            "linecolor": "white",
            "ticks": ""
           },
           "bgcolor": "#E5ECF6",
           "radialaxis": {
            "gridcolor": "white",
            "linecolor": "white",
            "ticks": ""
           }
          },
          "scene": {
           "xaxis": {
            "backgroundcolor": "#E5ECF6",
            "gridcolor": "white",
            "gridwidth": 2,
            "linecolor": "white",
            "showbackground": true,
            "ticks": "",
            "zerolinecolor": "white"
           },
           "yaxis": {
            "backgroundcolor": "#E5ECF6",
            "gridcolor": "white",
            "gridwidth": 2,
            "linecolor": "white",
            "showbackground": true,
            "ticks": "",
            "zerolinecolor": "white"
           },
           "zaxis": {
            "backgroundcolor": "#E5ECF6",
            "gridcolor": "white",
            "gridwidth": 2,
            "linecolor": "white",
            "showbackground": true,
            "ticks": "",
            "zerolinecolor": "white"
           }
          },
          "shapedefaults": {
           "line": {
            "color": "#2a3f5f"
           }
          },
          "ternary": {
           "aaxis": {
            "gridcolor": "white",
            "linecolor": "white",
            "ticks": ""
           },
           "baxis": {
            "gridcolor": "white",
            "linecolor": "white",
            "ticks": ""
           },
           "bgcolor": "#E5ECF6",
           "caxis": {
            "gridcolor": "white",
            "linecolor": "white",
            "ticks": ""
           }
          },
          "title": {
           "x": 0.05
          },
          "xaxis": {
           "automargin": true,
           "gridcolor": "white",
           "linecolor": "white",
           "ticks": "",
           "title": {
            "standoff": 15
           },
           "zerolinecolor": "white",
           "zerolinewidth": 2
          },
          "yaxis": {
           "automargin": true,
           "gridcolor": "white",
           "linecolor": "white",
           "ticks": "",
           "title": {
            "standoff": 15
           },
           "zerolinecolor": "white",
           "zerolinewidth": 2
          }
         }
        },
        "title": {
         "text": "Distribución del tamaño de las oraciones"
        },
        "violinmode": "group",
        "xaxis": {
         "anchor": "y",
         "domain": [
          0,
          1
         ],
         "title": {
          "text": ""
         }
        },
        "yaxis": {
         "anchor": "x",
         "domain": [
          0,
          1
         ],
         "title": {
          "text": "Tamaño de oración"
         }
        }
       }
      }
     },
     "metadata": {},
     "output_type": "display_data"
    }
   ],
   "source": [
    "fig = pt.violin([len(word_tokenize(sentence, \"spanish\")) for sentence in sentences], box=True, title=\"Distribución del tamaño de las oraciones\")\n",
    "fig.update_layout(yaxis_title=\"Tamaño de oración\")\n",
    "fig.update_layout(xaxis_title=\"\")\n",
    "fig.show()"
   ]
  },
  {
   "attachments": {},
   "cell_type": "markdown",
   "metadata": {},
   "source": [
    "## **Limpieza de datos** 🧹"
   ]
  },
  {
   "cell_type": "code",
   "execution_count": 36,
   "metadata": {},
   "outputs": [],
   "source": [
    "def cleanWord(word: str) -> str:\n",
    "    \"\"\" Elimina los signos de punctuación de una palabra excepto el punto y coma. \"\"\"\n",
    "    return re.sub(r'[^\\w\\,\\.]','', word)\n",
    "\n",
    "def cleanSentence(sentence: str) -> list:\n",
    "    \"\"\" Regresa un listado de las palabras límpias de una oración. \"\"\"\n",
    "    words = word_tokenize(sentence)\n",
    "    cleanWords = [word for word in map(cleanWord, words) if word]\n",
    "    return cleanWords"
   ]
  },
  {
   "cell_type": "code",
   "execution_count": 37,
   "metadata": {},
   "outputs": [
    {
     "name": "stdout",
     "output_type": "stream",
     "text": [
      "Se limpiaron 11 palabras.\n"
     ]
    },
    {
     "ename": "NameError",
     "evalue": "name 'cleanWords' is not defined",
     "output_type": "error",
     "traceback": [
      "\u001b[0;31m---------------------------------------------------------------------------\u001b[0m",
      "\u001b[0;31mNameError\u001b[0m                                 Traceback (most recent call last)",
      "Cell \u001b[0;32mIn[37], line 4\u001b[0m\n\u001b[1;32m      2\u001b[0m nCleanWords \u001b[39m=\u001b[39m \u001b[39msum\u001b[39m(\u001b[39mlen\u001b[39m(word) \u001b[39mfor\u001b[39;00m word \u001b[39min\u001b[39;00m cleanSentences)\n\u001b[1;32m      3\u001b[0m \u001b[39mprint\u001b[39m(\u001b[39mf\u001b[39m\u001b[39m\"\u001b[39m\u001b[39mSe limpiaron \u001b[39m\u001b[39m{\u001b[39;00m\u001b[39mlen\u001b[39m(words)\u001b[39m \u001b[39m\u001b[39m-\u001b[39m\u001b[39m \u001b[39mnCleanWords\u001b[39m}\u001b[39;00m\u001b[39m palabras.\u001b[39m\u001b[39m\"\u001b[39m)\n\u001b[0;32m----> 4\u001b[0m \u001b[39mprint\u001b[39m(\u001b[39m\"\u001b[39m\u001b[39mPromedio de palabras por oración aplicando limpieza:\u001b[39m\u001b[39m\"\u001b[39m, \u001b[39mround\u001b[39m(  cleanWords\u001b[39m/\u001b[39m \u001b[39mlen\u001b[39m(cleanSentences)))\n",
      "\u001b[0;31mNameError\u001b[0m: name 'cleanWords' is not defined"
     ]
    }
   ],
   "source": [
    "cleanSentences = [cleanSentence(sentence) for sentence in sent_tokenize(rawCorpus, \"spanish\")]\n",
    "nCleanWords = sum(len(word) for word in cleanSentences)\n",
    "print(f\"Se limpiaron {len(words) - nCleanWords} palabras.\")\n",
    "print(\"Promedio de palabras por oración aplicando limpieza:\", round(  cleanWords/ len(cleanSentences)))"
   ]
  },
  {
   "attachments": {},
   "cell_type": "markdown",
   "metadata": {},
   "source": [
    "### Análizando las palabras en el corpus"
   ]
  },
  {
   "cell_type": "code",
   "execution_count": 38,
   "metadata": {},
   "outputs": [],
   "source": [
    "from collections import defaultdict, Counter\n",
    "dic=defaultdict(int)\n",
    "\n",
    "for sentence in cleanSentences:\n",
    "    for word in sentence:\n",
    "        dic[word] += 1\n",
    "        \n",
    "wordFreq = Counter(dic)\n",
    "mostFreq = wordFreq.most_common()"
   ]
  },
  {
   "cell_type": "code",
   "execution_count": 39,
   "metadata": {},
   "outputs": [
    {
     "data": {
      "application/vnd.plotly.v1+json": {
       "config": {
        "plotlyServerURL": "https://plot.ly"
       },
       "data": [
        {
         "alignmentgroup": "True",
         "hovertemplate": "palabra=%{x}<br>frecuencia=%{y}<extra></extra>",
         "legendgroup": ",",
         "marker": {
          "color": "#636efa",
          "pattern": {
           "shape": ""
          }
         },
         "name": ",",
         "offsetgroup": ",",
         "orientation": "v",
         "showlegend": true,
         "textposition": "auto",
         "type": "bar",
         "x": [
          ","
         ],
         "xaxis": "x",
         "y": [
          19
         ],
         "yaxis": "y"
        },
        {
         "alignmentgroup": "True",
         "hovertemplate": "palabra=%{x}<br>frecuencia=%{y}<extra></extra>",
         "legendgroup": "que",
         "marker": {
          "color": "#EF553B",
          "pattern": {
           "shape": ""
          }
         },
         "name": "que",
         "offsetgroup": "que",
         "orientation": "v",
         "showlegend": true,
         "textposition": "auto",
         "type": "bar",
         "x": [
          "que"
         ],
         "xaxis": "x",
         "y": [
          13
         ],
         "yaxis": "y"
        },
        {
         "alignmentgroup": "True",
         "hovertemplate": "palabra=%{x}<br>frecuencia=%{y}<extra></extra>",
         "legendgroup": "de",
         "marker": {
          "color": "#00cc96",
          "pattern": {
           "shape": ""
          }
         },
         "name": "de",
         "offsetgroup": "de",
         "orientation": "v",
         "showlegend": true,
         "textposition": "auto",
         "type": "bar",
         "x": [
          "de"
         ],
         "xaxis": "x",
         "y": [
          7
         ],
         "yaxis": "y"
        },
        {
         "alignmentgroup": "True",
         "hovertemplate": "palabra=%{x}<br>frecuencia=%{y}<extra></extra>",
         "legendgroup": "la",
         "marker": {
          "color": "#ab63fa",
          "pattern": {
           "shape": ""
          }
         },
         "name": "la",
         "offsetgroup": "la",
         "orientation": "v",
         "showlegend": true,
         "textposition": "auto",
         "type": "bar",
         "x": [
          "la"
         ],
         "xaxis": "x",
         "y": [
          7
         ],
         "yaxis": "y"
        },
        {
         "alignmentgroup": "True",
         "hovertemplate": "palabra=%{x}<br>frecuencia=%{y}<extra></extra>",
         "legendgroup": ".",
         "marker": {
          "color": "#FFA15A",
          "pattern": {
           "shape": ""
          }
         },
         "name": ".",
         "offsetgroup": ".",
         "orientation": "v",
         "showlegend": true,
         "textposition": "auto",
         "type": "bar",
         "x": [
          "."
         ],
         "xaxis": "x",
         "y": [
          6
         ],
         "yaxis": "y"
        },
        {
         "alignmentgroup": "True",
         "hovertemplate": "palabra=%{x}<br>frecuencia=%{y}<extra></extra>",
         "legendgroup": "o",
         "marker": {
          "color": "#19d3f3",
          "pattern": {
           "shape": ""
          }
         },
         "name": "o",
         "offsetgroup": "o",
         "orientation": "v",
         "showlegend": true,
         "textposition": "auto",
         "type": "bar",
         "x": [
          "o"
         ],
         "xaxis": "x",
         "y": [
          4
         ],
         "yaxis": "y"
        },
        {
         "alignmentgroup": "True",
         "hovertemplate": "palabra=%{x}<br>frecuencia=%{y}<extra></extra>",
         "legendgroup": "finalmente",
         "marker": {
          "color": "#FF6692",
          "pattern": {
           "shape": ""
          }
         },
         "name": "finalmente",
         "offsetgroup": "finalmente",
         "orientation": "v",
         "showlegend": true,
         "textposition": "auto",
         "type": "bar",
         "x": [
          "finalmente"
         ],
         "xaxis": "x",
         "y": [
          4
         ],
         "yaxis": "y"
        },
        {
         "alignmentgroup": "True",
         "hovertemplate": "palabra=%{x}<br>frecuencia=%{y}<extra></extra>",
         "legendgroup": "con",
         "marker": {
          "color": "#B6E880",
          "pattern": {
           "shape": ""
          }
         },
         "name": "con",
         "offsetgroup": "con",
         "orientation": "v",
         "showlegend": true,
         "textposition": "auto",
         "type": "bar",
         "x": [
          "con"
         ],
         "xaxis": "x",
         "y": [
          4
         ],
         "yaxis": "y"
        },
        {
         "alignmentgroup": "True",
         "hovertemplate": "palabra=%{x}<br>frecuencia=%{y}<extra></extra>",
         "legendgroup": "y",
         "marker": {
          "color": "#FF97FF",
          "pattern": {
           "shape": ""
          }
         },
         "name": "y",
         "offsetgroup": "y",
         "orientation": "v",
         "showlegend": true,
         "textposition": "auto",
         "type": "bar",
         "x": [
          "y"
         ],
         "xaxis": "x",
         "y": [
          3
         ],
         "yaxis": "y"
        },
        {
         "alignmentgroup": "True",
         "hovertemplate": "palabra=%{x}<br>frecuencia=%{y}<extra></extra>",
         "legendgroup": "en",
         "marker": {
          "color": "#FECB52",
          "pattern": {
           "shape": ""
          }
         },
         "name": "en",
         "offsetgroup": "en",
         "orientation": "v",
         "showlegend": true,
         "textposition": "auto",
         "type": "bar",
         "x": [
          "en"
         ],
         "xaxis": "x",
         "y": [
          3
         ],
         "yaxis": "y"
        }
       ],
       "layout": {
        "barmode": "relative",
        "legend": {
         "title": {
          "text": "palabra"
         },
         "tracegroupgap": 0
        },
        "template": {
         "data": {
          "bar": [
           {
            "error_x": {
             "color": "#2a3f5f"
            },
            "error_y": {
             "color": "#2a3f5f"
            },
            "marker": {
             "line": {
              "color": "#E5ECF6",
              "width": 0.5
             },
             "pattern": {
              "fillmode": "overlay",
              "size": 10,
              "solidity": 0.2
             }
            },
            "type": "bar"
           }
          ],
          "barpolar": [
           {
            "marker": {
             "line": {
              "color": "#E5ECF6",
              "width": 0.5
             },
             "pattern": {
              "fillmode": "overlay",
              "size": 10,
              "solidity": 0.2
             }
            },
            "type": "barpolar"
           }
          ],
          "carpet": [
           {
            "aaxis": {
             "endlinecolor": "#2a3f5f",
             "gridcolor": "white",
             "linecolor": "white",
             "minorgridcolor": "white",
             "startlinecolor": "#2a3f5f"
            },
            "baxis": {
             "endlinecolor": "#2a3f5f",
             "gridcolor": "white",
             "linecolor": "white",
             "minorgridcolor": "white",
             "startlinecolor": "#2a3f5f"
            },
            "type": "carpet"
           }
          ],
          "choropleth": [
           {
            "colorbar": {
             "outlinewidth": 0,
             "ticks": ""
            },
            "type": "choropleth"
           }
          ],
          "contour": [
           {
            "colorbar": {
             "outlinewidth": 0,
             "ticks": ""
            },
            "colorscale": [
             [
              0,
              "#0d0887"
             ],
             [
              0.1111111111111111,
              "#46039f"
             ],
             [
              0.2222222222222222,
              "#7201a8"
             ],
             [
              0.3333333333333333,
              "#9c179e"
             ],
             [
              0.4444444444444444,
              "#bd3786"
             ],
             [
              0.5555555555555556,
              "#d8576b"
             ],
             [
              0.6666666666666666,
              "#ed7953"
             ],
             [
              0.7777777777777778,
              "#fb9f3a"
             ],
             [
              0.8888888888888888,
              "#fdca26"
             ],
             [
              1,
              "#f0f921"
             ]
            ],
            "type": "contour"
           }
          ],
          "contourcarpet": [
           {
            "colorbar": {
             "outlinewidth": 0,
             "ticks": ""
            },
            "type": "contourcarpet"
           }
          ],
          "heatmap": [
           {
            "colorbar": {
             "outlinewidth": 0,
             "ticks": ""
            },
            "colorscale": [
             [
              0,
              "#0d0887"
             ],
             [
              0.1111111111111111,
              "#46039f"
             ],
             [
              0.2222222222222222,
              "#7201a8"
             ],
             [
              0.3333333333333333,
              "#9c179e"
             ],
             [
              0.4444444444444444,
              "#bd3786"
             ],
             [
              0.5555555555555556,
              "#d8576b"
             ],
             [
              0.6666666666666666,
              "#ed7953"
             ],
             [
              0.7777777777777778,
              "#fb9f3a"
             ],
             [
              0.8888888888888888,
              "#fdca26"
             ],
             [
              1,
              "#f0f921"
             ]
            ],
            "type": "heatmap"
           }
          ],
          "heatmapgl": [
           {
            "colorbar": {
             "outlinewidth": 0,
             "ticks": ""
            },
            "colorscale": [
             [
              0,
              "#0d0887"
             ],
             [
              0.1111111111111111,
              "#46039f"
             ],
             [
              0.2222222222222222,
              "#7201a8"
             ],
             [
              0.3333333333333333,
              "#9c179e"
             ],
             [
              0.4444444444444444,
              "#bd3786"
             ],
             [
              0.5555555555555556,
              "#d8576b"
             ],
             [
              0.6666666666666666,
              "#ed7953"
             ],
             [
              0.7777777777777778,
              "#fb9f3a"
             ],
             [
              0.8888888888888888,
              "#fdca26"
             ],
             [
              1,
              "#f0f921"
             ]
            ],
            "type": "heatmapgl"
           }
          ],
          "histogram": [
           {
            "marker": {
             "pattern": {
              "fillmode": "overlay",
              "size": 10,
              "solidity": 0.2
             }
            },
            "type": "histogram"
           }
          ],
          "histogram2d": [
           {
            "colorbar": {
             "outlinewidth": 0,
             "ticks": ""
            },
            "colorscale": [
             [
              0,
              "#0d0887"
             ],
             [
              0.1111111111111111,
              "#46039f"
             ],
             [
              0.2222222222222222,
              "#7201a8"
             ],
             [
              0.3333333333333333,
              "#9c179e"
             ],
             [
              0.4444444444444444,
              "#bd3786"
             ],
             [
              0.5555555555555556,
              "#d8576b"
             ],
             [
              0.6666666666666666,
              "#ed7953"
             ],
             [
              0.7777777777777778,
              "#fb9f3a"
             ],
             [
              0.8888888888888888,
              "#fdca26"
             ],
             [
              1,
              "#f0f921"
             ]
            ],
            "type": "histogram2d"
           }
          ],
          "histogram2dcontour": [
           {
            "colorbar": {
             "outlinewidth": 0,
             "ticks": ""
            },
            "colorscale": [
             [
              0,
              "#0d0887"
             ],
             [
              0.1111111111111111,
              "#46039f"
             ],
             [
              0.2222222222222222,
              "#7201a8"
             ],
             [
              0.3333333333333333,
              "#9c179e"
             ],
             [
              0.4444444444444444,
              "#bd3786"
             ],
             [
              0.5555555555555556,
              "#d8576b"
             ],
             [
              0.6666666666666666,
              "#ed7953"
             ],
             [
              0.7777777777777778,
              "#fb9f3a"
             ],
             [
              0.8888888888888888,
              "#fdca26"
             ],
             [
              1,
              "#f0f921"
             ]
            ],
            "type": "histogram2dcontour"
           }
          ],
          "mesh3d": [
           {
            "colorbar": {
             "outlinewidth": 0,
             "ticks": ""
            },
            "type": "mesh3d"
           }
          ],
          "parcoords": [
           {
            "line": {
             "colorbar": {
              "outlinewidth": 0,
              "ticks": ""
             }
            },
            "type": "parcoords"
           }
          ],
          "pie": [
           {
            "automargin": true,
            "type": "pie"
           }
          ],
          "scatter": [
           {
            "fillpattern": {
             "fillmode": "overlay",
             "size": 10,
             "solidity": 0.2
            },
            "type": "scatter"
           }
          ],
          "scatter3d": [
           {
            "line": {
             "colorbar": {
              "outlinewidth": 0,
              "ticks": ""
             }
            },
            "marker": {
             "colorbar": {
              "outlinewidth": 0,
              "ticks": ""
             }
            },
            "type": "scatter3d"
           }
          ],
          "scattercarpet": [
           {
            "marker": {
             "colorbar": {
              "outlinewidth": 0,
              "ticks": ""
             }
            },
            "type": "scattercarpet"
           }
          ],
          "scattergeo": [
           {
            "marker": {
             "colorbar": {
              "outlinewidth": 0,
              "ticks": ""
             }
            },
            "type": "scattergeo"
           }
          ],
          "scattergl": [
           {
            "marker": {
             "colorbar": {
              "outlinewidth": 0,
              "ticks": ""
             }
            },
            "type": "scattergl"
           }
          ],
          "scattermapbox": [
           {
            "marker": {
             "colorbar": {
              "outlinewidth": 0,
              "ticks": ""
             }
            },
            "type": "scattermapbox"
           }
          ],
          "scatterpolar": [
           {
            "marker": {
             "colorbar": {
              "outlinewidth": 0,
              "ticks": ""
             }
            },
            "type": "scatterpolar"
           }
          ],
          "scatterpolargl": [
           {
            "marker": {
             "colorbar": {
              "outlinewidth": 0,
              "ticks": ""
             }
            },
            "type": "scatterpolargl"
           }
          ],
          "scatterternary": [
           {
            "marker": {
             "colorbar": {
              "outlinewidth": 0,
              "ticks": ""
             }
            },
            "type": "scatterternary"
           }
          ],
          "surface": [
           {
            "colorbar": {
             "outlinewidth": 0,
             "ticks": ""
            },
            "colorscale": [
             [
              0,
              "#0d0887"
             ],
             [
              0.1111111111111111,
              "#46039f"
             ],
             [
              0.2222222222222222,
              "#7201a8"
             ],
             [
              0.3333333333333333,
              "#9c179e"
             ],
             [
              0.4444444444444444,
              "#bd3786"
             ],
             [
              0.5555555555555556,
              "#d8576b"
             ],
             [
              0.6666666666666666,
              "#ed7953"
             ],
             [
              0.7777777777777778,
              "#fb9f3a"
             ],
             [
              0.8888888888888888,
              "#fdca26"
             ],
             [
              1,
              "#f0f921"
             ]
            ],
            "type": "surface"
           }
          ],
          "table": [
           {
            "cells": {
             "fill": {
              "color": "#EBF0F8"
             },
             "line": {
              "color": "white"
             }
            },
            "header": {
             "fill": {
              "color": "#C8D4E3"
             },
             "line": {
              "color": "white"
             }
            },
            "type": "table"
           }
          ]
         },
         "layout": {
          "annotationdefaults": {
           "arrowcolor": "#2a3f5f",
           "arrowhead": 0,
           "arrowwidth": 1
          },
          "autotypenumbers": "strict",
          "coloraxis": {
           "colorbar": {
            "outlinewidth": 0,
            "ticks": ""
           }
          },
          "colorscale": {
           "diverging": [
            [
             0,
             "#8e0152"
            ],
            [
             0.1,
             "#c51b7d"
            ],
            [
             0.2,
             "#de77ae"
            ],
            [
             0.3,
             "#f1b6da"
            ],
            [
             0.4,
             "#fde0ef"
            ],
            [
             0.5,
             "#f7f7f7"
            ],
            [
             0.6,
             "#e6f5d0"
            ],
            [
             0.7,
             "#b8e186"
            ],
            [
             0.8,
             "#7fbc41"
            ],
            [
             0.9,
             "#4d9221"
            ],
            [
             1,
             "#276419"
            ]
           ],
           "sequential": [
            [
             0,
             "#0d0887"
            ],
            [
             0.1111111111111111,
             "#46039f"
            ],
            [
             0.2222222222222222,
             "#7201a8"
            ],
            [
             0.3333333333333333,
             "#9c179e"
            ],
            [
             0.4444444444444444,
             "#bd3786"
            ],
            [
             0.5555555555555556,
             "#d8576b"
            ],
            [
             0.6666666666666666,
             "#ed7953"
            ],
            [
             0.7777777777777778,
             "#fb9f3a"
            ],
            [
             0.8888888888888888,
             "#fdca26"
            ],
            [
             1,
             "#f0f921"
            ]
           ],
           "sequentialminus": [
            [
             0,
             "#0d0887"
            ],
            [
             0.1111111111111111,
             "#46039f"
            ],
            [
             0.2222222222222222,
             "#7201a8"
            ],
            [
             0.3333333333333333,
             "#9c179e"
            ],
            [
             0.4444444444444444,
             "#bd3786"
            ],
            [
             0.5555555555555556,
             "#d8576b"
            ],
            [
             0.6666666666666666,
             "#ed7953"
            ],
            [
             0.7777777777777778,
             "#fb9f3a"
            ],
            [
             0.8888888888888888,
             "#fdca26"
            ],
            [
             1,
             "#f0f921"
            ]
           ]
          },
          "colorway": [
           "#636efa",
           "#EF553B",
           "#00cc96",
           "#ab63fa",
           "#FFA15A",
           "#19d3f3",
           "#FF6692",
           "#B6E880",
           "#FF97FF",
           "#FECB52"
          ],
          "font": {
           "color": "#2a3f5f"
          },
          "geo": {
           "bgcolor": "white",
           "lakecolor": "white",
           "landcolor": "#E5ECF6",
           "showlakes": true,
           "showland": true,
           "subunitcolor": "white"
          },
          "hoverlabel": {
           "align": "left"
          },
          "hovermode": "closest",
          "mapbox": {
           "style": "light"
          },
          "paper_bgcolor": "white",
          "plot_bgcolor": "#E5ECF6",
          "polar": {
           "angularaxis": {
            "gridcolor": "white",
            "linecolor": "white",
            "ticks": ""
           },
           "bgcolor": "#E5ECF6",
           "radialaxis": {
            "gridcolor": "white",
            "linecolor": "white",
            "ticks": ""
           }
          },
          "scene": {
           "xaxis": {
            "backgroundcolor": "#E5ECF6",
            "gridcolor": "white",
            "gridwidth": 2,
            "linecolor": "white",
            "showbackground": true,
            "ticks": "",
            "zerolinecolor": "white"
           },
           "yaxis": {
            "backgroundcolor": "#E5ECF6",
            "gridcolor": "white",
            "gridwidth": 2,
            "linecolor": "white",
            "showbackground": true,
            "ticks": "",
            "zerolinecolor": "white"
           },
           "zaxis": {
            "backgroundcolor": "#E5ECF6",
            "gridcolor": "white",
            "gridwidth": 2,
            "linecolor": "white",
            "showbackground": true,
            "ticks": "",
            "zerolinecolor": "white"
           }
          },
          "shapedefaults": {
           "line": {
            "color": "#2a3f5f"
           }
          },
          "ternary": {
           "aaxis": {
            "gridcolor": "white",
            "linecolor": "white",
            "ticks": ""
           },
           "baxis": {
            "gridcolor": "white",
            "linecolor": "white",
            "ticks": ""
           },
           "bgcolor": "#E5ECF6",
           "caxis": {
            "gridcolor": "white",
            "linecolor": "white",
            "ticks": ""
           }
          },
          "title": {
           "x": 0.05
          },
          "xaxis": {
           "automargin": true,
           "gridcolor": "white",
           "linecolor": "white",
           "ticks": "",
           "title": {
            "standoff": 15
           },
           "zerolinecolor": "white",
           "zerolinewidth": 2
          },
          "yaxis": {
           "automargin": true,
           "gridcolor": "white",
           "linecolor": "white",
           "ticks": "",
           "title": {
            "standoff": 15
           },
           "zerolinecolor": "white",
           "zerolinewidth": 2
          }
         }
        },
        "title": {
         "text": "Frecuencia de palabras"
        },
        "xaxis": {
         "anchor": "y",
         "categoryarray": [
          ",",
          "que",
          "de",
          "la",
          ".",
          "o",
          "finalmente",
          "con",
          "y",
          "en"
         ],
         "categoryorder": "array",
         "domain": [
          0,
          1
         ],
         "title": {
          "text": "palabra"
         }
        },
        "yaxis": {
         "anchor": "x",
         "domain": [
          0,
          1
         ],
         "title": {
          "text": "frecuencia"
         }
        }
       }
      }
     },
     "metadata": {},
     "output_type": "display_data"
    }
   ],
   "source": [
    "import pandas as pd\n",
    "df = pd.DataFrame(mostFreq[:10])\n",
    "df.columns = [\"palabra\", \"frecuencia\"]\n",
    "fig = pt.bar(df, x=\"palabra\", y=\"frecuencia\", color=\"palabra\", title=\"Frecuencia de palabras\")\n",
    "fig.show()"
   ]
  },
  {
   "attachments": {},
   "cell_type": "markdown",
   "metadata": {},
   "source": [
    "### Sin contar las 'stopwords'"
   ]
  },
  {
   "cell_type": "code",
   "execution_count": 40,
   "metadata": {},
   "outputs": [
    {
     "data": {
      "application/vnd.plotly.v1+json": {
       "config": {
        "plotlyServerURL": "https://plot.ly"
       },
       "data": [
        {
         "alignmentgroup": "True",
         "hovertemplate": "palabra=%{x}<br>frecuencia=%{y}<extra></extra>",
         "legendgroup": "finalmente",
         "marker": {
          "color": "#636efa",
          "pattern": {
           "shape": ""
          }
         },
         "name": "finalmente",
         "offsetgroup": "finalmente",
         "orientation": "v",
         "showlegend": true,
         "textposition": "auto",
         "type": "bar",
         "x": [
          "finalmente"
         ],
         "xaxis": "x",
         "y": [
          4
         ],
         "yaxis": "y"
        },
        {
         "alignmentgroup": "True",
         "hovertemplate": "palabra=%{x}<br>frecuencia=%{y}<extra></extra>",
         "legendgroup": "dichas",
         "marker": {
          "color": "#EF553B",
          "pattern": {
           "shape": ""
          }
         },
         "name": "dichas",
         "offsetgroup": "dichas",
         "orientation": "v",
         "showlegend": true,
         "textposition": "auto",
         "type": "bar",
         "x": [
          "dichas"
         ],
         "xaxis": "x",
         "y": [
          2
         ],
         "yaxis": "y"
        },
        {
         "alignmentgroup": "True",
         "hovertemplate": "palabra=%{x}<br>frecuencia=%{y}<extra></extra>",
         "legendgroup": "manera",
         "marker": {
          "color": "#00cc96",
          "pattern": {
           "shape": ""
          }
         },
         "name": "manera",
         "offsetgroup": "manera",
         "orientation": "v",
         "showlegend": true,
         "textposition": "auto",
         "type": "bar",
         "x": [
          "manera"
         ],
         "xaxis": "x",
         "y": [
          2
         ],
         "yaxis": "y"
        },
        {
         "alignmentgroup": "True",
         "hovertemplate": "palabra=%{x}<br>frecuencia=%{y}<extra></extra>",
         "legendgroup": "electoral",
         "marker": {
          "color": "#ab63fa",
          "pattern": {
           "shape": ""
          }
         },
         "name": "electoral",
         "offsetgroup": "electoral",
         "orientation": "v",
         "showlegend": true,
         "textposition": "auto",
         "type": "bar",
         "x": [
          "electoral"
         ],
         "xaxis": "x",
         "y": [
          2
         ],
         "yaxis": "y"
        },
        {
         "alignmentgroup": "True",
         "hovertemplate": "palabra=%{x}<br>frecuencia=%{y}<extra></extra>",
         "legendgroup": "aquí",
         "marker": {
          "color": "#FFA15A",
          "pattern": {
           "shape": ""
          }
         },
         "name": "aquí",
         "offsetgroup": "aquí",
         "orientation": "v",
         "showlegend": true,
         "textposition": "auto",
         "type": "bar",
         "x": [
          "aquí"
         ],
         "xaxis": "x",
         "y": [
          2
         ],
         "yaxis": "y"
        },
        {
         "alignmentgroup": "True",
         "hovertemplate": "palabra=%{x}<br>frecuencia=%{y}<extra></extra>",
         "legendgroup": "Pepe",
         "marker": {
          "color": "#19d3f3",
          "pattern": {
           "shape": ""
          }
         },
         "name": "Pepe",
         "offsetgroup": "Pepe",
         "orientation": "v",
         "showlegend": true,
         "textposition": "auto",
         "type": "bar",
         "x": [
          "Pepe"
         ],
         "xaxis": "x",
         "y": [
          2
         ],
         "yaxis": "y"
        },
        {
         "alignmentgroup": "True",
         "hovertemplate": "palabra=%{x}<br>frecuencia=%{y}<extra></extra>",
         "legendgroup": "Woldenberg",
         "marker": {
          "color": "#FF6692",
          "pattern": {
           "shape": ""
          }
         },
         "name": "Woldenberg",
         "offsetgroup": "Woldenberg",
         "orientation": "v",
         "showlegend": true,
         "textposition": "auto",
         "type": "bar",
         "x": [
          "Woldenberg"
         ],
         "xaxis": "x",
         "y": [
          2
         ],
         "yaxis": "y"
        },
        {
         "alignmentgroup": "True",
         "hovertemplate": "palabra=%{x}<br>frecuencia=%{y}<extra></extra>",
         "legendgroup": "partido",
         "marker": {
          "color": "#B6E880",
          "pattern": {
           "shape": ""
          }
         },
         "name": "partido",
         "offsetgroup": "partido",
         "orientation": "v",
         "showlegend": true,
         "textposition": "auto",
         "type": "bar",
         "x": [
          "partido"
         ],
         "xaxis": "x",
         "y": [
          1
         ],
         "yaxis": "y"
        },
        {
         "alignmentgroup": "True",
         "hovertemplate": "palabra=%{x}<br>frecuencia=%{y}<extra></extra>",
         "legendgroup": "destazar",
         "marker": {
          "color": "#FF97FF",
          "pattern": {
           "shape": ""
          }
         },
         "name": "destazar",
         "offsetgroup": "destazar",
         "orientation": "v",
         "showlegend": true,
         "textposition": "auto",
         "type": "bar",
         "x": [
          "destazar"
         ],
         "xaxis": "x",
         "y": [
          1
         ],
         "yaxis": "y"
        },
        {
         "alignmentgroup": "True",
         "hovertemplate": "palabra=%{x}<br>frecuencia=%{y}<extra></extra>",
         "legendgroup": "destripar",
         "marker": {
          "color": "#FECB52",
          "pattern": {
           "shape": ""
          }
         },
         "name": "destripar",
         "offsetgroup": "destripar",
         "orientation": "v",
         "showlegend": true,
         "textposition": "auto",
         "type": "bar",
         "x": [
          "destripar"
         ],
         "xaxis": "x",
         "y": [
          1
         ],
         "yaxis": "y"
        }
       ],
       "layout": {
        "barmode": "relative",
        "legend": {
         "title": {
          "text": "palabra"
         },
         "tracegroupgap": 0
        },
        "template": {
         "data": {
          "bar": [
           {
            "error_x": {
             "color": "#2a3f5f"
            },
            "error_y": {
             "color": "#2a3f5f"
            },
            "marker": {
             "line": {
              "color": "#E5ECF6",
              "width": 0.5
             },
             "pattern": {
              "fillmode": "overlay",
              "size": 10,
              "solidity": 0.2
             }
            },
            "type": "bar"
           }
          ],
          "barpolar": [
           {
            "marker": {
             "line": {
              "color": "#E5ECF6",
              "width": 0.5
             },
             "pattern": {
              "fillmode": "overlay",
              "size": 10,
              "solidity": 0.2
             }
            },
            "type": "barpolar"
           }
          ],
          "carpet": [
           {
            "aaxis": {
             "endlinecolor": "#2a3f5f",
             "gridcolor": "white",
             "linecolor": "white",
             "minorgridcolor": "white",
             "startlinecolor": "#2a3f5f"
            },
            "baxis": {
             "endlinecolor": "#2a3f5f",
             "gridcolor": "white",
             "linecolor": "white",
             "minorgridcolor": "white",
             "startlinecolor": "#2a3f5f"
            },
            "type": "carpet"
           }
          ],
          "choropleth": [
           {
            "colorbar": {
             "outlinewidth": 0,
             "ticks": ""
            },
            "type": "choropleth"
           }
          ],
          "contour": [
           {
            "colorbar": {
             "outlinewidth": 0,
             "ticks": ""
            },
            "colorscale": [
             [
              0,
              "#0d0887"
             ],
             [
              0.1111111111111111,
              "#46039f"
             ],
             [
              0.2222222222222222,
              "#7201a8"
             ],
             [
              0.3333333333333333,
              "#9c179e"
             ],
             [
              0.4444444444444444,
              "#bd3786"
             ],
             [
              0.5555555555555556,
              "#d8576b"
             ],
             [
              0.6666666666666666,
              "#ed7953"
             ],
             [
              0.7777777777777778,
              "#fb9f3a"
             ],
             [
              0.8888888888888888,
              "#fdca26"
             ],
             [
              1,
              "#f0f921"
             ]
            ],
            "type": "contour"
           }
          ],
          "contourcarpet": [
           {
            "colorbar": {
             "outlinewidth": 0,
             "ticks": ""
            },
            "type": "contourcarpet"
           }
          ],
          "heatmap": [
           {
            "colorbar": {
             "outlinewidth": 0,
             "ticks": ""
            },
            "colorscale": [
             [
              0,
              "#0d0887"
             ],
             [
              0.1111111111111111,
              "#46039f"
             ],
             [
              0.2222222222222222,
              "#7201a8"
             ],
             [
              0.3333333333333333,
              "#9c179e"
             ],
             [
              0.4444444444444444,
              "#bd3786"
             ],
             [
              0.5555555555555556,
              "#d8576b"
             ],
             [
              0.6666666666666666,
              "#ed7953"
             ],
             [
              0.7777777777777778,
              "#fb9f3a"
             ],
             [
              0.8888888888888888,
              "#fdca26"
             ],
             [
              1,
              "#f0f921"
             ]
            ],
            "type": "heatmap"
           }
          ],
          "heatmapgl": [
           {
            "colorbar": {
             "outlinewidth": 0,
             "ticks": ""
            },
            "colorscale": [
             [
              0,
              "#0d0887"
             ],
             [
              0.1111111111111111,
              "#46039f"
             ],
             [
              0.2222222222222222,
              "#7201a8"
             ],
             [
              0.3333333333333333,
              "#9c179e"
             ],
             [
              0.4444444444444444,
              "#bd3786"
             ],
             [
              0.5555555555555556,
              "#d8576b"
             ],
             [
              0.6666666666666666,
              "#ed7953"
             ],
             [
              0.7777777777777778,
              "#fb9f3a"
             ],
             [
              0.8888888888888888,
              "#fdca26"
             ],
             [
              1,
              "#f0f921"
             ]
            ],
            "type": "heatmapgl"
           }
          ],
          "histogram": [
           {
            "marker": {
             "pattern": {
              "fillmode": "overlay",
              "size": 10,
              "solidity": 0.2
             }
            },
            "type": "histogram"
           }
          ],
          "histogram2d": [
           {
            "colorbar": {
             "outlinewidth": 0,
             "ticks": ""
            },
            "colorscale": [
             [
              0,
              "#0d0887"
             ],
             [
              0.1111111111111111,
              "#46039f"
             ],
             [
              0.2222222222222222,
              "#7201a8"
             ],
             [
              0.3333333333333333,
              "#9c179e"
             ],
             [
              0.4444444444444444,
              "#bd3786"
             ],
             [
              0.5555555555555556,
              "#d8576b"
             ],
             [
              0.6666666666666666,
              "#ed7953"
             ],
             [
              0.7777777777777778,
              "#fb9f3a"
             ],
             [
              0.8888888888888888,
              "#fdca26"
             ],
             [
              1,
              "#f0f921"
             ]
            ],
            "type": "histogram2d"
           }
          ],
          "histogram2dcontour": [
           {
            "colorbar": {
             "outlinewidth": 0,
             "ticks": ""
            },
            "colorscale": [
             [
              0,
              "#0d0887"
             ],
             [
              0.1111111111111111,
              "#46039f"
             ],
             [
              0.2222222222222222,
              "#7201a8"
             ],
             [
              0.3333333333333333,
              "#9c179e"
             ],
             [
              0.4444444444444444,
              "#bd3786"
             ],
             [
              0.5555555555555556,
              "#d8576b"
             ],
             [
              0.6666666666666666,
              "#ed7953"
             ],
             [
              0.7777777777777778,
              "#fb9f3a"
             ],
             [
              0.8888888888888888,
              "#fdca26"
             ],
             [
              1,
              "#f0f921"
             ]
            ],
            "type": "histogram2dcontour"
           }
          ],
          "mesh3d": [
           {
            "colorbar": {
             "outlinewidth": 0,
             "ticks": ""
            },
            "type": "mesh3d"
           }
          ],
          "parcoords": [
           {
            "line": {
             "colorbar": {
              "outlinewidth": 0,
              "ticks": ""
             }
            },
            "type": "parcoords"
           }
          ],
          "pie": [
           {
            "automargin": true,
            "type": "pie"
           }
          ],
          "scatter": [
           {
            "fillpattern": {
             "fillmode": "overlay",
             "size": 10,
             "solidity": 0.2
            },
            "type": "scatter"
           }
          ],
          "scatter3d": [
           {
            "line": {
             "colorbar": {
              "outlinewidth": 0,
              "ticks": ""
             }
            },
            "marker": {
             "colorbar": {
              "outlinewidth": 0,
              "ticks": ""
             }
            },
            "type": "scatter3d"
           }
          ],
          "scattercarpet": [
           {
            "marker": {
             "colorbar": {
              "outlinewidth": 0,
              "ticks": ""
             }
            },
            "type": "scattercarpet"
           }
          ],
          "scattergeo": [
           {
            "marker": {
             "colorbar": {
              "outlinewidth": 0,
              "ticks": ""
             }
            },
            "type": "scattergeo"
           }
          ],
          "scattergl": [
           {
            "marker": {
             "colorbar": {
              "outlinewidth": 0,
              "ticks": ""
             }
            },
            "type": "scattergl"
           }
          ],
          "scattermapbox": [
           {
            "marker": {
             "colorbar": {
              "outlinewidth": 0,
              "ticks": ""
             }
            },
            "type": "scattermapbox"
           }
          ],
          "scatterpolar": [
           {
            "marker": {
             "colorbar": {
              "outlinewidth": 0,
              "ticks": ""
             }
            },
            "type": "scatterpolar"
           }
          ],
          "scatterpolargl": [
           {
            "marker": {
             "colorbar": {
              "outlinewidth": 0,
              "ticks": ""
             }
            },
            "type": "scatterpolargl"
           }
          ],
          "scatterternary": [
           {
            "marker": {
             "colorbar": {
              "outlinewidth": 0,
              "ticks": ""
             }
            },
            "type": "scatterternary"
           }
          ],
          "surface": [
           {
            "colorbar": {
             "outlinewidth": 0,
             "ticks": ""
            },
            "colorscale": [
             [
              0,
              "#0d0887"
             ],
             [
              0.1111111111111111,
              "#46039f"
             ],
             [
              0.2222222222222222,
              "#7201a8"
             ],
             [
              0.3333333333333333,
              "#9c179e"
             ],
             [
              0.4444444444444444,
              "#bd3786"
             ],
             [
              0.5555555555555556,
              "#d8576b"
             ],
             [
              0.6666666666666666,
              "#ed7953"
             ],
             [
              0.7777777777777778,
              "#fb9f3a"
             ],
             [
              0.8888888888888888,
              "#fdca26"
             ],
             [
              1,
              "#f0f921"
             ]
            ],
            "type": "surface"
           }
          ],
          "table": [
           {
            "cells": {
             "fill": {
              "color": "#EBF0F8"
             },
             "line": {
              "color": "white"
             }
            },
            "header": {
             "fill": {
              "color": "#C8D4E3"
             },
             "line": {
              "color": "white"
             }
            },
            "type": "table"
           }
          ]
         },
         "layout": {
          "annotationdefaults": {
           "arrowcolor": "#2a3f5f",
           "arrowhead": 0,
           "arrowwidth": 1
          },
          "autotypenumbers": "strict",
          "coloraxis": {
           "colorbar": {
            "outlinewidth": 0,
            "ticks": ""
           }
          },
          "colorscale": {
           "diverging": [
            [
             0,
             "#8e0152"
            ],
            [
             0.1,
             "#c51b7d"
            ],
            [
             0.2,
             "#de77ae"
            ],
            [
             0.3,
             "#f1b6da"
            ],
            [
             0.4,
             "#fde0ef"
            ],
            [
             0.5,
             "#f7f7f7"
            ],
            [
             0.6,
             "#e6f5d0"
            ],
            [
             0.7,
             "#b8e186"
            ],
            [
             0.8,
             "#7fbc41"
            ],
            [
             0.9,
             "#4d9221"
            ],
            [
             1,
             "#276419"
            ]
           ],
           "sequential": [
            [
             0,
             "#0d0887"
            ],
            [
             0.1111111111111111,
             "#46039f"
            ],
            [
             0.2222222222222222,
             "#7201a8"
            ],
            [
             0.3333333333333333,
             "#9c179e"
            ],
            [
             0.4444444444444444,
             "#bd3786"
            ],
            [
             0.5555555555555556,
             "#d8576b"
            ],
            [
             0.6666666666666666,
             "#ed7953"
            ],
            [
             0.7777777777777778,
             "#fb9f3a"
            ],
            [
             0.8888888888888888,
             "#fdca26"
            ],
            [
             1,
             "#f0f921"
            ]
           ],
           "sequentialminus": [
            [
             0,
             "#0d0887"
            ],
            [
             0.1111111111111111,
             "#46039f"
            ],
            [
             0.2222222222222222,
             "#7201a8"
            ],
            [
             0.3333333333333333,
             "#9c179e"
            ],
            [
             0.4444444444444444,
             "#bd3786"
            ],
            [
             0.5555555555555556,
             "#d8576b"
            ],
            [
             0.6666666666666666,
             "#ed7953"
            ],
            [
             0.7777777777777778,
             "#fb9f3a"
            ],
            [
             0.8888888888888888,
             "#fdca26"
            ],
            [
             1,
             "#f0f921"
            ]
           ]
          },
          "colorway": [
           "#636efa",
           "#EF553B",
           "#00cc96",
           "#ab63fa",
           "#FFA15A",
           "#19d3f3",
           "#FF6692",
           "#B6E880",
           "#FF97FF",
           "#FECB52"
          ],
          "font": {
           "color": "#2a3f5f"
          },
          "geo": {
           "bgcolor": "white",
           "lakecolor": "white",
           "landcolor": "#E5ECF6",
           "showlakes": true,
           "showland": true,
           "subunitcolor": "white"
          },
          "hoverlabel": {
           "align": "left"
          },
          "hovermode": "closest",
          "mapbox": {
           "style": "light"
          },
          "paper_bgcolor": "white",
          "plot_bgcolor": "#E5ECF6",
          "polar": {
           "angularaxis": {
            "gridcolor": "white",
            "linecolor": "white",
            "ticks": ""
           },
           "bgcolor": "#E5ECF6",
           "radialaxis": {
            "gridcolor": "white",
            "linecolor": "white",
            "ticks": ""
           }
          },
          "scene": {
           "xaxis": {
            "backgroundcolor": "#E5ECF6",
            "gridcolor": "white",
            "gridwidth": 2,
            "linecolor": "white",
            "showbackground": true,
            "ticks": "",
            "zerolinecolor": "white"
           },
           "yaxis": {
            "backgroundcolor": "#E5ECF6",
            "gridcolor": "white",
            "gridwidth": 2,
            "linecolor": "white",
            "showbackground": true,
            "ticks": "",
            "zerolinecolor": "white"
           },
           "zaxis": {
            "backgroundcolor": "#E5ECF6",
            "gridcolor": "white",
            "gridwidth": 2,
            "linecolor": "white",
            "showbackground": true,
            "ticks": "",
            "zerolinecolor": "white"
           }
          },
          "shapedefaults": {
           "line": {
            "color": "#2a3f5f"
           }
          },
          "ternary": {
           "aaxis": {
            "gridcolor": "white",
            "linecolor": "white",
            "ticks": ""
           },
           "baxis": {
            "gridcolor": "white",
            "linecolor": "white",
            "ticks": ""
           },
           "bgcolor": "#E5ECF6",
           "caxis": {
            "gridcolor": "white",
            "linecolor": "white",
            "ticks": ""
           }
          },
          "title": {
           "x": 0.05
          },
          "xaxis": {
           "automargin": true,
           "gridcolor": "white",
           "linecolor": "white",
           "ticks": "",
           "title": {
            "standoff": 15
           },
           "zerolinecolor": "white",
           "zerolinewidth": 2
          },
          "yaxis": {
           "automargin": true,
           "gridcolor": "white",
           "linecolor": "white",
           "ticks": "",
           "title": {
            "standoff": 15
           },
           "zerolinecolor": "white",
           "zerolinewidth": 2
          }
         }
        },
        "title": {
         "text": "Frecuencia de palabras sin contar stop-words"
        },
        "xaxis": {
         "anchor": "y",
         "categoryarray": [
          "finalmente",
          "dichas",
          "manera",
          "electoral",
          "aquí",
          "Pepe",
          "Woldenberg",
          "partido",
          "destazar",
          "destripar"
         ],
         "categoryorder": "array",
         "domain": [
          0,
          1
         ],
         "title": {
          "text": "palabra"
         }
        },
        "yaxis": {
         "anchor": "x",
         "domain": [
          0,
          1
         ],
         "title": {
          "text": "frecuencia"
         }
        }
       }
      }
     },
     "metadata": {},
     "output_type": "display_data"
    }
   ],
   "source": [
    "from nltk.corpus import stopwords\n",
    "stop=set(stopwords.words('spanish'))\n",
    "stop.add(\".\")\n",
    "stop.add(\",\")\n",
    "\n",
    "# Filtering stop words from dic\n",
    "newDic = dict(filter(lambda pair: pair[0] not in stop, dic.items()))\n",
    "wordFreq = Counter(newDic)\n",
    "mostFreq = wordFreq.most_common()\n",
    "\n",
    "df = pd.DataFrame(mostFreq[:10])\n",
    "df.columns = [\"palabra\", \"frecuencia\"]\n",
    "fig = pt.bar(df, x=\"palabra\", y=\"frecuencia\", color=\"palabra\", title=\"Frecuencia de palabras sin contar stop-words\")\n",
    "fig.show()"
   ]
  },
  {
   "attachments": {},
   "cell_type": "markdown",
   "metadata": {},
   "source": [
    "### Wordcloud de palábras"
   ]
  },
  {
   "cell_type": "code",
   "execution_count": null,
   "metadata": {},
   "outputs": [],
   "source": [
    "#%pip install wordcloud"
   ]
  },
  {
   "cell_type": "code",
   "execution_count": 49,
   "metadata": {},
   "outputs": [],
   "source": [
    "from wordcloud import WordCloud, STOPWORDS\n",
    "\n",
    "cleanText = \" \".join(word for sentence in cleanSentences for word in sentence if word not in stop)\n",
    "\n",
    "word_cloud = WordCloud(\n",
    "    width=3000,\n",
    "    height=2000,\n",
    "    random_state=1,\n",
    "    background_color=\"white\",\n",
    "    colormap=\"jet_r\",\n",
    "    collocations=False,\n",
    "    stopwords=STOPWORDS,\n",
    "    max_words=30\n",
    "    ).generate(cleanText)"
   ]
  },
  {
   "cell_type": "code",
   "execution_count": 51,
   "metadata": {},
   "outputs": [
    {
     "data": {
      "application/vnd.plotly.v1+json": {
       "config": {
        "plotlyServerURL": "https://plot.ly"
       },
       "data": [
        {
         "hovertemplate": "x: %{x}<br>y: %{y}<br>color: [%{z[0]}, %{z[1]}, %{z[2]}]<extra></extra>",
         "name": "0",
         "source": "data:image/png;base64,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",
         "type": "image",
         "xaxis": "x",
         "yaxis": "y"
        }
       ],
       "layout": {
        "coloraxis": {
         "showscale": false
        },
        "margin": {
         "t": 60
        },
        "template": {
         "data": {
          "bar": [
           {
            "error_x": {
             "color": "#2a3f5f"
            },
            "error_y": {
             "color": "#2a3f5f"
            },
            "marker": {
             "line": {
              "color": "#E5ECF6",
              "width": 0.5
             },
             "pattern": {
              "fillmode": "overlay",
              "size": 10,
              "solidity": 0.2
             }
            },
            "type": "bar"
           }
          ],
          "barpolar": [
           {
            "marker": {
             "line": {
              "color": "#E5ECF6",
              "width": 0.5
             },
             "pattern": {
              "fillmode": "overlay",
              "size": 10,
              "solidity": 0.2
             }
            },
            "type": "barpolar"
           }
          ],
          "carpet": [
           {
            "aaxis": {
             "endlinecolor": "#2a3f5f",
             "gridcolor": "white",
             "linecolor": "white",
             "minorgridcolor": "white",
             "startlinecolor": "#2a3f5f"
            },
            "baxis": {
             "endlinecolor": "#2a3f5f",
             "gridcolor": "white",
             "linecolor": "white",
             "minorgridcolor": "white",
             "startlinecolor": "#2a3f5f"
            },
            "type": "carpet"
           }
          ],
          "choropleth": [
           {
            "colorbar": {
             "outlinewidth": 0,
             "ticks": ""
            },
            "type": "choropleth"
           }
          ],
          "contour": [
           {
            "colorbar": {
             "outlinewidth": 0,
             "ticks": ""
            },
            "colorscale": [
             [
              0,
              "#0d0887"
             ],
             [
              0.1111111111111111,
              "#46039f"
             ],
             [
              0.2222222222222222,
              "#7201a8"
             ],
             [
              0.3333333333333333,
              "#9c179e"
             ],
             [
              0.4444444444444444,
              "#bd3786"
             ],
             [
              0.5555555555555556,
              "#d8576b"
             ],
             [
              0.6666666666666666,
              "#ed7953"
             ],
             [
              0.7777777777777778,
              "#fb9f3a"
             ],
             [
              0.8888888888888888,
              "#fdca26"
             ],
             [
              1,
              "#f0f921"
             ]
            ],
            "type": "contour"
           }
          ],
          "contourcarpet": [
           {
            "colorbar": {
             "outlinewidth": 0,
             "ticks": ""
            },
            "type": "contourcarpet"
           }
          ],
          "heatmap": [
           {
            "colorbar": {
             "outlinewidth": 0,
             "ticks": ""
            },
            "colorscale": [
             [
              0,
              "#0d0887"
             ],
             [
              0.1111111111111111,
              "#46039f"
             ],
             [
              0.2222222222222222,
              "#7201a8"
             ],
             [
              0.3333333333333333,
              "#9c179e"
             ],
             [
              0.4444444444444444,
              "#bd3786"
             ],
             [
              0.5555555555555556,
              "#d8576b"
             ],
             [
              0.6666666666666666,
              "#ed7953"
             ],
             [
              0.7777777777777778,
              "#fb9f3a"
             ],
             [
              0.8888888888888888,
              "#fdca26"
             ],
             [
              1,
              "#f0f921"
             ]
            ],
            "type": "heatmap"
           }
          ],
          "heatmapgl": [
           {
            "colorbar": {
             "outlinewidth": 0,
             "ticks": ""
            },
            "colorscale": [
             [
              0,
              "#0d0887"
             ],
             [
              0.1111111111111111,
              "#46039f"
             ],
             [
              0.2222222222222222,
              "#7201a8"
             ],
             [
              0.3333333333333333,
              "#9c179e"
             ],
             [
              0.4444444444444444,
              "#bd3786"
             ],
             [
              0.5555555555555556,
              "#d8576b"
             ],
             [
              0.6666666666666666,
              "#ed7953"
             ],
             [
              0.7777777777777778,
              "#fb9f3a"
             ],
             [
              0.8888888888888888,
              "#fdca26"
             ],
             [
              1,
              "#f0f921"
             ]
            ],
            "type": "heatmapgl"
           }
          ],
          "histogram": [
           {
            "marker": {
             "pattern": {
              "fillmode": "overlay",
              "size": 10,
              "solidity": 0.2
             }
            },
            "type": "histogram"
           }
          ],
          "histogram2d": [
           {
            "colorbar": {
             "outlinewidth": 0,
             "ticks": ""
            },
            "colorscale": [
             [
              0,
              "#0d0887"
             ],
             [
              0.1111111111111111,
              "#46039f"
             ],
             [
              0.2222222222222222,
              "#7201a8"
             ],
             [
              0.3333333333333333,
              "#9c179e"
             ],
             [
              0.4444444444444444,
              "#bd3786"
             ],
             [
              0.5555555555555556,
              "#d8576b"
             ],
             [
              0.6666666666666666,
              "#ed7953"
             ],
             [
              0.7777777777777778,
              "#fb9f3a"
             ],
             [
              0.8888888888888888,
              "#fdca26"
             ],
             [
              1,
              "#f0f921"
             ]
            ],
            "type": "histogram2d"
           }
          ],
          "histogram2dcontour": [
           {
            "colorbar": {
             "outlinewidth": 0,
             "ticks": ""
            },
            "colorscale": [
             [
              0,
              "#0d0887"
             ],
             [
              0.1111111111111111,
              "#46039f"
             ],
             [
              0.2222222222222222,
              "#7201a8"
             ],
             [
              0.3333333333333333,
              "#9c179e"
             ],
             [
              0.4444444444444444,
              "#bd3786"
             ],
             [
              0.5555555555555556,
              "#d8576b"
             ],
             [
              0.6666666666666666,
              "#ed7953"
             ],
             [
              0.7777777777777778,
              "#fb9f3a"
             ],
             [
              0.8888888888888888,
              "#fdca26"
             ],
             [
              1,
              "#f0f921"
             ]
            ],
            "type": "histogram2dcontour"
           }
          ],
          "mesh3d": [
           {
            "colorbar": {
             "outlinewidth": 0,
             "ticks": ""
            },
            "type": "mesh3d"
           }
          ],
          "parcoords": [
           {
            "line": {
             "colorbar": {
              "outlinewidth": 0,
              "ticks": ""
             }
            },
            "type": "parcoords"
           }
          ],
          "pie": [
           {
            "automargin": true,
            "type": "pie"
           }
          ],
          "scatter": [
           {
            "fillpattern": {
             "fillmode": "overlay",
             "size": 10,
             "solidity": 0.2
            },
            "type": "scatter"
           }
          ],
          "scatter3d": [
           {
            "line": {
             "colorbar": {
              "outlinewidth": 0,
              "ticks": ""
             }
            },
            "marker": {
             "colorbar": {
              "outlinewidth": 0,
              "ticks": ""
             }
            },
            "type": "scatter3d"
           }
          ],
          "scattercarpet": [
           {
            "marker": {
             "colorbar": {
              "outlinewidth": 0,
              "ticks": ""
             }
            },
            "type": "scattercarpet"
           }
          ],
          "scattergeo": [
           {
            "marker": {
             "colorbar": {
              "outlinewidth": 0,
              "ticks": ""
             }
            },
            "type": "scattergeo"
           }
          ],
          "scattergl": [
           {
            "marker": {
             "colorbar": {
              "outlinewidth": 0,
              "ticks": ""
             }
            },
            "type": "scattergl"
           }
          ],
          "scattermapbox": [
           {
            "marker": {
             "colorbar": {
              "outlinewidth": 0,
              "ticks": ""
             }
            },
            "type": "scattermapbox"
           }
          ],
          "scatterpolar": [
           {
            "marker": {
             "colorbar": {
              "outlinewidth": 0,
              "ticks": ""
             }
            },
            "type": "scatterpolar"
           }
          ],
          "scatterpolargl": [
           {
            "marker": {
             "colorbar": {
              "outlinewidth": 0,
              "ticks": ""
             }
            },
            "type": "scatterpolargl"
           }
          ],
          "scatterternary": [
           {
            "marker": {
             "colorbar": {
              "outlinewidth": 0,
              "ticks": ""
             }
            },
            "type": "scatterternary"
           }
          ],
          "surface": [
           {
            "colorbar": {
             "outlinewidth": 0,
             "ticks": ""
            },
            "colorscale": [
             [
              0,
              "#0d0887"
             ],
             [
              0.1111111111111111,
              "#46039f"
             ],
             [
              0.2222222222222222,
              "#7201a8"
             ],
             [
              0.3333333333333333,
              "#9c179e"
             ],
             [
              0.4444444444444444,
              "#bd3786"
             ],
             [
              0.5555555555555556,
              "#d8576b"
             ],
             [
              0.6666666666666666,
              "#ed7953"
             ],
             [
              0.7777777777777778,
              "#fb9f3a"
             ],
             [
              0.8888888888888888,
              "#fdca26"
             ],
             [
              1,
              "#f0f921"
             ]
            ],
            "type": "surface"
           }
          ],
          "table": [
           {
            "cells": {
             "fill": {
              "color": "#EBF0F8"
             },
             "line": {
              "color": "white"
             }
            },
            "header": {
             "fill": {
              "color": "#C8D4E3"
             },
             "line": {
              "color": "white"
             }
            },
            "type": "table"
           }
          ]
         },
         "layout": {
          "annotationdefaults": {
           "arrowcolor": "#2a3f5f",
           "arrowhead": 0,
           "arrowwidth": 1
          },
          "autotypenumbers": "strict",
          "coloraxis": {
           "colorbar": {
            "outlinewidth": 0,
            "ticks": ""
           }
          },
          "colorscale": {
           "diverging": [
            [
             0,
             "#8e0152"
            ],
            [
             0.1,
             "#c51b7d"
            ],
            [
             0.2,
             "#de77ae"
            ],
            [
             0.3,
             "#f1b6da"
            ],
            [
             0.4,
             "#fde0ef"
            ],
            [
             0.5,
             "#f7f7f7"
            ],
            [
             0.6,
             "#e6f5d0"
            ],
            [
             0.7,
             "#b8e186"
            ],
            [
             0.8,
             "#7fbc41"
            ],
            [
             0.9,
             "#4d9221"
            ],
            [
             1,
             "#276419"
            ]
           ],
           "sequential": [
            [
             0,
             "#0d0887"
            ],
            [
             0.1111111111111111,
             "#46039f"
            ],
            [
             0.2222222222222222,
             "#7201a8"
            ],
            [
             0.3333333333333333,
             "#9c179e"
            ],
            [
             0.4444444444444444,
             "#bd3786"
            ],
            [
             0.5555555555555556,
             "#d8576b"
            ],
            [
             0.6666666666666666,
             "#ed7953"
            ],
            [
             0.7777777777777778,
             "#fb9f3a"
            ],
            [
             0.8888888888888888,
             "#fdca26"
            ],
            [
             1,
             "#f0f921"
            ]
           ],
           "sequentialminus": [
            [
             0,
             "#0d0887"
            ],
            [
             0.1111111111111111,
             "#46039f"
            ],
            [
             0.2222222222222222,
             "#7201a8"
            ],
            [
             0.3333333333333333,
             "#9c179e"
            ],
            [
             0.4444444444444444,
             "#bd3786"
            ],
            [
             0.5555555555555556,
             "#d8576b"
            ],
            [
             0.6666666666666666,
             "#ed7953"
            ],
            [
             0.7777777777777778,
             "#fb9f3a"
            ],
            [
             0.8888888888888888,
             "#fdca26"
            ],
            [
             1,
             "#f0f921"
            ]
           ]
          },
          "colorway": [
           "#636efa",
           "#EF553B",
           "#00cc96",
           "#ab63fa",
           "#FFA15A",
           "#19d3f3",
           "#FF6692",
           "#B6E880",
           "#FF97FF",
           "#FECB52"
          ],
          "font": {
           "color": "#2a3f5f"
          },
          "geo": {
           "bgcolor": "white",
           "lakecolor": "white",
           "landcolor": "#E5ECF6",
           "showlakes": true,
           "showland": true,
           "subunitcolor": "white"
          },
          "hoverlabel": {
           "align": "left"
          },
          "hovermode": "closest",
          "mapbox": {
           "style": "light"
          },
          "paper_bgcolor": "white",
          "plot_bgcolor": "#E5ECF6",
          "polar": {
           "angularaxis": {
            "gridcolor": "white",
            "linecolor": "white",
            "ticks": ""
           },
           "bgcolor": "#E5ECF6",
           "radialaxis": {
            "gridcolor": "white",
            "linecolor": "white",
            "ticks": ""
           }
          },
          "scene": {
           "xaxis": {
            "backgroundcolor": "#E5ECF6",
            "gridcolor": "white",
            "gridwidth": 2,
            "linecolor": "white",
            "showbackground": true,
            "ticks": "",
            "zerolinecolor": "white"
           },
           "yaxis": {
            "backgroundcolor": "#E5ECF6",
            "gridcolor": "white",
            "gridwidth": 2,
            "linecolor": "white",
            "showbackground": true,
            "ticks": "",
            "zerolinecolor": "white"
           },
           "zaxis": {
            "backgroundcolor": "#E5ECF6",
            "gridcolor": "white",
            "gridwidth": 2,
            "linecolor": "white",
            "showbackground": true,
            "ticks": "",
            "zerolinecolor": "white"
           }
          },
          "shapedefaults": {
           "line": {
            "color": "#2a3f5f"
           }
          },
          "ternary": {
           "aaxis": {
            "gridcolor": "white",
            "linecolor": "white",
            "ticks": ""
           },
           "baxis": {
            "gridcolor": "white",
            "linecolor": "white",
            "ticks": ""
           },
           "bgcolor": "#E5ECF6",
           "caxis": {
            "gridcolor": "white",
            "linecolor": "white",
            "ticks": ""
           }
          },
          "title": {
           "x": 0.05
          },
          "xaxis": {
           "automargin": true,
           "gridcolor": "white",
           "linecolor": "white",
           "ticks": "",
           "title": {
            "standoff": 15
           },
           "zerolinecolor": "white",
           "zerolinewidth": 2
          },
          "yaxis": {
           "automargin": true,
           "gridcolor": "white",
           "linecolor": "white",
           "ticks": "",
           "title": {
            "standoff": 15
           },
           "zerolinecolor": "white",
           "zerolinewidth": 2
          }
         }
        },
        "xaxis": {
         "anchor": "y",
         "domain": [
          0,
          1
         ],
         "showticklabels": false
        },
        "yaxis": {
         "anchor": "x",
         "domain": [
          0,
          1
         ],
         "showticklabels": false
        }
       }
      }
     },
     "metadata": {},
     "output_type": "display_data"
    }
   ],
   "source": [
    "fig = pt.imshow(word_cloud)\n",
    "fig.update_layout(coloraxis_showscale=False)\n",
    "fig.update_xaxes(showticklabels=False)\n",
    "fig.update_yaxes(showticklabels=False)\n",
    "fig.show()"
   ]
  },
  {
   "attachments": {},
   "cell_type": "markdown",
   "metadata": {},
   "source": [
    "## Filtrando palabras con poca ocurrencia"
   ]
  },
  {
   "cell_type": "code",
   "execution_count": 65,
   "metadata": {},
   "outputs": [
    {
     "data": {
      "application/vnd.plotly.v1+json": {
       "config": {
        "plotlyServerURL": "https://plot.ly"
       },
       "data": [
        {
         "alignmentgroup": "True",
         "box": {
          "visible": true
         },
         "hovertemplate": "variable=%{x}<br>value=%{y}<extra></extra>",
         "legendgroup": "",
         "marker": {
          "color": "#636efa"
         },
         "name": "",
         "offsetgroup": "",
         "orientation": "v",
         "scalegroup": "True",
         "showlegend": false,
         "type": "violin",
         "x": [
          "0",
          "0",
          "0",
          "0",
          "0",
          "0",
          "0",
          "0",
          "0",
          "0",
          "0",
          "0",
          "0",
          "0",
          "0",
          "0",
          "0",
          "0",
          "0",
          "0",
          "0",
          "0",
          "0",
          "0",
          "0",
          "0",
          "0",
          "0",
          "0",
          "0",
          "0",
          "0",
          "0",
          "0",
          "0",
          "0",
          "0",
          "0",
          "0",
          "0",
          "0",
          "0",
          "0",
          "0",
          "0",
          "0",
          "0",
          "0",
          "0",
          "0",
          "0",
          "0",
          "0",
          "0",
          "0",
          "0",
          "0",
          "0",
          "0",
          "0",
          "0",
          "0",
          "0",
          "0",
          "0",
          "0",
          "0",
          "0",
          "0",
          "0",
          "0",
          "0",
          "0",
          "0",
          "0",
          "0",
          "0",
          "0",
          "0",
          "0",
          "0",
          "0",
          "0",
          "0",
          "0",
          "0",
          "0",
          "0",
          "0",
          "0",
          "0",
          "0",
          "0",
          "0",
          "0",
          "0",
          "0",
          "0",
          "0",
          "0",
          "0",
          "0",
          "0",
          "0",
          "0",
          "0",
          "0",
          "0",
          "0",
          "0",
          "0",
          "0",
          "0",
          "0",
          "0",
          "0",
          "0",
          "0",
          "0",
          "0",
          "0",
          "0",
          "0",
          "0",
          "0",
          "0",
          "0",
          "0",
          "0",
          "0",
          "0",
          "0",
          "0"
         ],
         "x0": " ",
         "xaxis": "x",
         "y": [
          7,
          1,
          1,
          13,
          1,
          1,
          4,
          1,
          1,
          19,
          1,
          1,
          1,
          1,
          1,
          4,
          2,
          2,
          2,
          1,
          2,
          1,
          1,
          1,
          2,
          1,
          1,
          3,
          7,
          1,
          1,
          1,
          1,
          1,
          1,
          2,
          3,
          1,
          1,
          1,
          1,
          1,
          1,
          1,
          1,
          1,
          1,
          1,
          1,
          1,
          1,
          1,
          1,
          3,
          1,
          1,
          1,
          1,
          2,
          1,
          1,
          2,
          1,
          1,
          6,
          1,
          1,
          1,
          1,
          3,
          2,
          1,
          1,
          1,
          4,
          1,
          1,
          1,
          1,
          1,
          1,
          1,
          1,
          1,
          1,
          1,
          1,
          1,
          1,
          2,
          1,
          1,
          1,
          1,
          2,
          1,
          1,
          1,
          1,
          1,
          1,
          1,
          1,
          1,
          1,
          1,
          1,
          2,
          2,
          1,
          2,
          1,
          1,
          1,
          1,
          1,
          1,
          1,
          1,
          1,
          1,
          1,
          1,
          1,
          1,
          1,
          1,
          1,
          1,
          1,
          0,
          0,
          0
         ],
         "y0": " ",
         "yaxis": "y"
        }
       ],
       "layout": {
        "legend": {
         "tracegroupgap": 0
        },
        "template": {
         "data": {
          "bar": [
           {
            "error_x": {
             "color": "#2a3f5f"
            },
            "error_y": {
             "color": "#2a3f5f"
            },
            "marker": {
             "line": {
              "color": "#E5ECF6",
              "width": 0.5
             },
             "pattern": {
              "fillmode": "overlay",
              "size": 10,
              "solidity": 0.2
             }
            },
            "type": "bar"
           }
          ],
          "barpolar": [
           {
            "marker": {
             "line": {
              "color": "#E5ECF6",
              "width": 0.5
             },
             "pattern": {
              "fillmode": "overlay",
              "size": 10,
              "solidity": 0.2
             }
            },
            "type": "barpolar"
           }
          ],
          "carpet": [
           {
            "aaxis": {
             "endlinecolor": "#2a3f5f",
             "gridcolor": "white",
             "linecolor": "white",
             "minorgridcolor": "white",
             "startlinecolor": "#2a3f5f"
            },
            "baxis": {
             "endlinecolor": "#2a3f5f",
             "gridcolor": "white",
             "linecolor": "white",
             "minorgridcolor": "white",
             "startlinecolor": "#2a3f5f"
            },
            "type": "carpet"
           }
          ],
          "choropleth": [
           {
            "colorbar": {
             "outlinewidth": 0,
             "ticks": ""
            },
            "type": "choropleth"
           }
          ],
          "contour": [
           {
            "colorbar": {
             "outlinewidth": 0,
             "ticks": ""
            },
            "colorscale": [
             [
              0,
              "#0d0887"
             ],
             [
              0.1111111111111111,
              "#46039f"
             ],
             [
              0.2222222222222222,
              "#7201a8"
             ],
             [
              0.3333333333333333,
              "#9c179e"
             ],
             [
              0.4444444444444444,
              "#bd3786"
             ],
             [
              0.5555555555555556,
              "#d8576b"
             ],
             [
              0.6666666666666666,
              "#ed7953"
             ],
             [
              0.7777777777777778,
              "#fb9f3a"
             ],
             [
              0.8888888888888888,
              "#fdca26"
             ],
             [
              1,
              "#f0f921"
             ]
            ],
            "type": "contour"
           }
          ],
          "contourcarpet": [
           {
            "colorbar": {
             "outlinewidth": 0,
             "ticks": ""
            },
            "type": "contourcarpet"
           }
          ],
          "heatmap": [
           {
            "colorbar": {
             "outlinewidth": 0,
             "ticks": ""
            },
            "colorscale": [
             [
              0,
              "#0d0887"
             ],
             [
              0.1111111111111111,
              "#46039f"
             ],
             [
              0.2222222222222222,
              "#7201a8"
             ],
             [
              0.3333333333333333,
              "#9c179e"
             ],
             [
              0.4444444444444444,
              "#bd3786"
             ],
             [
              0.5555555555555556,
              "#d8576b"
             ],
             [
              0.6666666666666666,
              "#ed7953"
             ],
             [
              0.7777777777777778,
              "#fb9f3a"
             ],
             [
              0.8888888888888888,
              "#fdca26"
             ],
             [
              1,
              "#f0f921"
             ]
            ],
            "type": "heatmap"
           }
          ],
          "heatmapgl": [
           {
            "colorbar": {
             "outlinewidth": 0,
             "ticks": ""
            },
            "colorscale": [
             [
              0,
              "#0d0887"
             ],
             [
              0.1111111111111111,
              "#46039f"
             ],
             [
              0.2222222222222222,
              "#7201a8"
             ],
             [
              0.3333333333333333,
              "#9c179e"
             ],
             [
              0.4444444444444444,
              "#bd3786"
             ],
             [
              0.5555555555555556,
              "#d8576b"
             ],
             [
              0.6666666666666666,
              "#ed7953"
             ],
             [
              0.7777777777777778,
              "#fb9f3a"
             ],
             [
              0.8888888888888888,
              "#fdca26"
             ],
             [
              1,
              "#f0f921"
             ]
            ],
            "type": "heatmapgl"
           }
          ],
          "histogram": [
           {
            "marker": {
             "pattern": {
              "fillmode": "overlay",
              "size": 10,
              "solidity": 0.2
             }
            },
            "type": "histogram"
           }
          ],
          "histogram2d": [
           {
            "colorbar": {
             "outlinewidth": 0,
             "ticks": ""
            },
            "colorscale": [
             [
              0,
              "#0d0887"
             ],
             [
              0.1111111111111111,
              "#46039f"
             ],
             [
              0.2222222222222222,
              "#7201a8"
             ],
             [
              0.3333333333333333,
              "#9c179e"
             ],
             [
              0.4444444444444444,
              "#bd3786"
             ],
             [
              0.5555555555555556,
              "#d8576b"
             ],
             [
              0.6666666666666666,
              "#ed7953"
             ],
             [
              0.7777777777777778,
              "#fb9f3a"
             ],
             [
              0.8888888888888888,
              "#fdca26"
             ],
             [
              1,
              "#f0f921"
             ]
            ],
            "type": "histogram2d"
           }
          ],
          "histogram2dcontour": [
           {
            "colorbar": {
             "outlinewidth": 0,
             "ticks": ""
            },
            "colorscale": [
             [
              0,
              "#0d0887"
             ],
             [
              0.1111111111111111,
              "#46039f"
             ],
             [
              0.2222222222222222,
              "#7201a8"
             ],
             [
              0.3333333333333333,
              "#9c179e"
             ],
             [
              0.4444444444444444,
              "#bd3786"
             ],
             [
              0.5555555555555556,
              "#d8576b"
             ],
             [
              0.6666666666666666,
              "#ed7953"
             ],
             [
              0.7777777777777778,
              "#fb9f3a"
             ],
             [
              0.8888888888888888,
              "#fdca26"
             ],
             [
              1,
              "#f0f921"
             ]
            ],
            "type": "histogram2dcontour"
           }
          ],
          "mesh3d": [
           {
            "colorbar": {
             "outlinewidth": 0,
             "ticks": ""
            },
            "type": "mesh3d"
           }
          ],
          "parcoords": [
           {
            "line": {
             "colorbar": {
              "outlinewidth": 0,
              "ticks": ""
             }
            },
            "type": "parcoords"
           }
          ],
          "pie": [
           {
            "automargin": true,
            "type": "pie"
           }
          ],
          "scatter": [
           {
            "fillpattern": {
             "fillmode": "overlay",
             "size": 10,
             "solidity": 0.2
            },
            "type": "scatter"
           }
          ],
          "scatter3d": [
           {
            "line": {
             "colorbar": {
              "outlinewidth": 0,
              "ticks": ""
             }
            },
            "marker": {
             "colorbar": {
              "outlinewidth": 0,
              "ticks": ""
             }
            },
            "type": "scatter3d"
           }
          ],
          "scattercarpet": [
           {
            "marker": {
             "colorbar": {
              "outlinewidth": 0,
              "ticks": ""
             }
            },
            "type": "scattercarpet"
           }
          ],
          "scattergeo": [
           {
            "marker": {
             "colorbar": {
              "outlinewidth": 0,
              "ticks": ""
             }
            },
            "type": "scattergeo"
           }
          ],
          "scattergl": [
           {
            "marker": {
             "colorbar": {
              "outlinewidth": 0,
              "ticks": ""
             }
            },
            "type": "scattergl"
           }
          ],
          "scattermapbox": [
           {
            "marker": {
             "colorbar": {
              "outlinewidth": 0,
              "ticks": ""
             }
            },
            "type": "scattermapbox"
           }
          ],
          "scatterpolar": [
           {
            "marker": {
             "colorbar": {
              "outlinewidth": 0,
              "ticks": ""
             }
            },
            "type": "scatterpolar"
           }
          ],
          "scatterpolargl": [
           {
            "marker": {
             "colorbar": {
              "outlinewidth": 0,
              "ticks": ""
             }
            },
            "type": "scatterpolargl"
           }
          ],
          "scatterternary": [
           {
            "marker": {
             "colorbar": {
              "outlinewidth": 0,
              "ticks": ""
             }
            },
            "type": "scatterternary"
           }
          ],
          "surface": [
           {
            "colorbar": {
             "outlinewidth": 0,
             "ticks": ""
            },
            "colorscale": [
             [
              0,
              "#0d0887"
             ],
             [
              0.1111111111111111,
              "#46039f"
             ],
             [
              0.2222222222222222,
              "#7201a8"
             ],
             [
              0.3333333333333333,
              "#9c179e"
             ],
             [
              0.4444444444444444,
              "#bd3786"
             ],
             [
              0.5555555555555556,
              "#d8576b"
             ],
             [
              0.6666666666666666,
              "#ed7953"
             ],
             [
              0.7777777777777778,
              "#fb9f3a"
             ],
             [
              0.8888888888888888,
              "#fdca26"
             ],
             [
              1,
              "#f0f921"
             ]
            ],
            "type": "surface"
           }
          ],
          "table": [
           {
            "cells": {
             "fill": {
              "color": "#EBF0F8"
             },
             "line": {
              "color": "white"
             }
            },
            "header": {
             "fill": {
              "color": "#C8D4E3"
             },
             "line": {
              "color": "white"
             }
            },
            "type": "table"
           }
          ]
         },
         "layout": {
          "annotationdefaults": {
           "arrowcolor": "#2a3f5f",
           "arrowhead": 0,
           "arrowwidth": 1
          },
          "autotypenumbers": "strict",
          "coloraxis": {
           "colorbar": {
            "outlinewidth": 0,
            "ticks": ""
           }
          },
          "colorscale": {
           "diverging": [
            [
             0,
             "#8e0152"
            ],
            [
             0.1,
             "#c51b7d"
            ],
            [
             0.2,
             "#de77ae"
            ],
            [
             0.3,
             "#f1b6da"
            ],
            [
             0.4,
             "#fde0ef"
            ],
            [
             0.5,
             "#f7f7f7"
            ],
            [
             0.6,
             "#e6f5d0"
            ],
            [
             0.7,
             "#b8e186"
            ],
            [
             0.8,
             "#7fbc41"
            ],
            [
             0.9,
             "#4d9221"
            ],
            [
             1,
             "#276419"
            ]
           ],
           "sequential": [
            [
             0,
             "#0d0887"
            ],
            [
             0.1111111111111111,
             "#46039f"
            ],
            [
             0.2222222222222222,
             "#7201a8"
            ],
            [
             0.3333333333333333,
             "#9c179e"
            ],
            [
             0.4444444444444444,
             "#bd3786"
            ],
            [
             0.5555555555555556,
             "#d8576b"
            ],
            [
             0.6666666666666666,
             "#ed7953"
            ],
            [
             0.7777777777777778,
             "#fb9f3a"
            ],
            [
             0.8888888888888888,
             "#fdca26"
            ],
            [
             1,
             "#f0f921"
            ]
           ],
           "sequentialminus": [
            [
             0,
             "#0d0887"
            ],
            [
             0.1111111111111111,
             "#46039f"
            ],
            [
             0.2222222222222222,
             "#7201a8"
            ],
            [
             0.3333333333333333,
             "#9c179e"
            ],
            [
             0.4444444444444444,
             "#bd3786"
            ],
            [
             0.5555555555555556,
             "#d8576b"
            ],
            [
             0.6666666666666666,
             "#ed7953"
            ],
            [
             0.7777777777777778,
             "#fb9f3a"
            ],
            [
             0.8888888888888888,
             "#fdca26"
            ],
            [
             1,
             "#f0f921"
            ]
           ]
          },
          "colorway": [
           "#636efa",
           "#EF553B",
           "#00cc96",
           "#ab63fa",
           "#FFA15A",
           "#19d3f3",
           "#FF6692",
           "#B6E880",
           "#FF97FF",
           "#FECB52"
          ],
          "font": {
           "color": "#2a3f5f"
          },
          "geo": {
           "bgcolor": "white",
           "lakecolor": "white",
           "landcolor": "#E5ECF6",
           "showlakes": true,
           "showland": true,
           "subunitcolor": "white"
          },
          "hoverlabel": {
           "align": "left"
          },
          "hovermode": "closest",
          "mapbox": {
           "style": "light"
          },
          "paper_bgcolor": "white",
          "plot_bgcolor": "#E5ECF6",
          "polar": {
           "angularaxis": {
            "gridcolor": "white",
            "linecolor": "white",
            "ticks": ""
           },
           "bgcolor": "#E5ECF6",
           "radialaxis": {
            "gridcolor": "white",
            "linecolor": "white",
            "ticks": ""
           }
          },
          "scene": {
           "xaxis": {
            "backgroundcolor": "#E5ECF6",
            "gridcolor": "white",
            "gridwidth": 2,
            "linecolor": "white",
            "showbackground": true,
            "ticks": "",
            "zerolinecolor": "white"
           },
           "yaxis": {
            "backgroundcolor": "#E5ECF6",
            "gridcolor": "white",
            "gridwidth": 2,
            "linecolor": "white",
            "showbackground": true,
            "ticks": "",
            "zerolinecolor": "white"
           },
           "zaxis": {
            "backgroundcolor": "#E5ECF6",
            "gridcolor": "white",
            "gridwidth": 2,
            "linecolor": "white",
            "showbackground": true,
            "ticks": "",
            "zerolinecolor": "white"
           }
          },
          "shapedefaults": {
           "line": {
            "color": "#2a3f5f"
           }
          },
          "ternary": {
           "aaxis": {
            "gridcolor": "white",
            "linecolor": "white",
            "ticks": ""
           },
           "baxis": {
            "gridcolor": "white",
            "linecolor": "white",
            "ticks": ""
           },
           "bgcolor": "#E5ECF6",
           "caxis": {
            "gridcolor": "white",
            "linecolor": "white",
            "ticks": ""
           }
          },
          "title": {
           "x": 0.05
          },
          "xaxis": {
           "automargin": true,
           "gridcolor": "white",
           "linecolor": "white",
           "ticks": "",
           "title": {
            "standoff": 15
           },
           "zerolinecolor": "white",
           "zerolinewidth": 2
          },
          "yaxis": {
           "automargin": true,
           "gridcolor": "white",
           "linecolor": "white",
           "ticks": "",
           "title": {
            "standoff": 15
           },
           "zerolinecolor": "white",
           "zerolinewidth": 2
          }
         }
        },
        "title": {
         "text": "Distribución de ocurrencia de palabras"
        },
        "violinmode": "group",
        "xaxis": {
         "anchor": "y",
         "domain": [
          0,
          1
         ],
         "title": {
          "text": ""
         }
        },
        "yaxis": {
         "anchor": "x",
         "domain": [
          0,
          1
         ],
         "title": {
          "text": "Veces que aparece"
         }
        }
       }
      }
     },
     "metadata": {},
     "output_type": "display_data"
    }
   ],
   "source": [
    "fig = pt.violin(dic.values(), box=True, title=\"Distribución de ocurrencia de palabras\")\n",
    "fig.update_layout(yaxis_title=\"Veces que aparece\")\n",
    "fig.update_layout(xaxis_title=\"\")\n",
    "fig.show()"
   ]
  },
  {
   "attachments": {},
   "cell_type": "markdown",
   "metadata": {},
   "source": [
    "## **Conjunto de entrenamiento y conjunto de prueba**"
   ]
  },
  {
   "attachments": {},
   "cell_type": "markdown",
   "metadata": {},
   "source": [
    "## Corpus final y vocabulario?"
   ]
  },
  {
   "cell_type": "code",
   "execution_count": null,
   "metadata": {},
   "outputs": [],
   "source": []
  }
 ],
 "metadata": {
  "kernelspec": {
   "display_name": "Python 3",
   "language": "python",
   "name": "python3"
  },
  "language_info": {
   "codemirror_mode": {
    "name": "ipython",
    "version": 3
   },
   "file_extension": ".py",
   "mimetype": "text/x-python",
   "name": "python",
   "nbconvert_exporter": "python",
   "pygments_lexer": "ipython3",
   "version": "3.10.6"
  },
  "orig_nbformat": 4,
  "vscode": {
   "interpreter": {
    "hash": "916dbcbb3f70747c44a77c7bcd40155683ae19c65e1c03b4aa3499c5328201f1"
   }
  }
 },
 "nbformat": 4,
 "nbformat_minor": 2
}
