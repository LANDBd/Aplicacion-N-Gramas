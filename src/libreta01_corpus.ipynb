{
 "cells": [
  {
   "attachments": {},
   "cell_type": "markdown",
   "metadata": {},
   "source": [
    "## Procesamiento de Lenguaje Natural\n",
    "\n",
    "*Aplicación de N-gramas: **generación de frases mañaneras*** \n",
    "\n",
    "# ***Obtención de datos***\n",
    "\n",
    "### **Equipo:**\n",
    "\n",
    "- Giottonini Herrera Enrique Alejandro\n",
    "- Burruel Durán Luis Andrés\n",
    "- Villalba Miranda Jesús Abraham\n",
    "\n",
    "**Fuentes**\n",
    "* Los datos fueron obtenidos de [@nostradata ](https://www.nostrodata.com) en [`GitHub`](https://github.com/NOSTRODATA/conferencias_matutinas_amlo)\n",
    "---"
   ]
  },
  {
   "attachments": {},
   "cell_type": "markdown",
   "metadata": {},
   "source": [
    "## Objetivo\n",
    "\n",
    "El objetivo de esta libreta es obtener el `corpus` que utilizaremos para la elaboración de nuestra aplicación de **n-gramas**.\n",
    "\n",
    "Para la obtención de los datos utilizamos la libreria de [`PyGitHub`](https://pygithub.readthedocs.io/en/latest/introduction.html), lo que nos permite interactuar con el repositorio de *@nostradata* por medio de una REST API.\n",
    "\n",
    "Ademas, utilizaremos `Pandas`, lo que nos permitira cargar los datos mediante una *URL* en un `DataFrame`.\n"
   ]
  },
  {
   "cell_type": "code",
   "execution_count": null,
   "metadata": {},
   "outputs": [],
   "source": [
    "from github import Github, GithubException\n",
    "import pandas as pd\n",
    "import config"
   ]
  },
  {
   "attachments": {},
   "cell_type": "markdown",
   "metadata": {},
   "source": [
    "## Estrategia\n",
    "\n",
    "Como el objetivo de nuestra tarea es la generación de frases *mañaneras* del presidente Andres Manuel Lopez Obrador, solo utilizaremos los datos relacionados al presidente. Dichos datos los podemos encontrar con la siguiente ruta.\n",
    "\n",
    "`repo-root/año/mes/dia/csv_por_participante/AMLO.csv`\n",
    "\n",
    "Para visualizar como vienen los datos, primero obtenemos un DataFrame de como vienen los datos.\n"
   ]
  },
  {
   "cell_type": "code",
   "execution_count": null,
   "metadata": {},
   "outputs": [],
   "source": [
    "df = pd.read_csv('https://raw.githubusercontent.com/NOSTRODATA/conferencias_matutinas_amlo/master/2019/11-2019/noviembre%201%2C%202019/csv_por_participante/PRESIDENTE%20ANDRES%20MANUEL%20LOPEZ%20OBRADOR.csv', encoding='utf-8')"
   ]
  },
  {
   "attachments": {},
   "cell_type": "markdown",
   "metadata": {},
   "source": [
    "Visualizamos la información"
   ]
  },
  {
   "cell_type": "code",
   "execution_count": null,
   "metadata": {},
   "outputs": [],
   "source": [
    "df.head(5)"
   ]
  },
  {
   "attachments": {},
   "cell_type": "markdown",
   "metadata": {},
   "source": [
    "De aqui observamos que para la creación de nuestro corpus solamente utilizaremos la columna `Texto` del DataFrame."
   ]
  },
  {
   "attachments": {},
   "cell_type": "markdown",
   "metadata": {},
   "source": [
    "Creamos una función que permita almacenar el contendio de una columna de un DataFrame, y que concatene al archivo especificado.\n"
   ]
  },
  {
   "cell_type": "code",
   "execution_count": null,
   "metadata": {},
   "outputs": [],
   "source": [
    "def append_to_file(df, column, file_path):\n",
    "    if file_path == '':\n",
    "        raise ValueError(\"Invalid file path\")\n",
    "    values = df[column].values.tolist()\n",
    "    with open(file_path, mode='a', encoding='utf-8') as f:\n",
    "        for line in values:\n",
    "            f.write(line + '\\n')\n",
    "        f.write('\\n')"
   ]
  },
  {
   "attachments": {},
   "cell_type": "markdown",
   "metadata": {},
   "source": [
    "Esta función la utilizaremos para que el archivo `.txt` quede de forma:\n",
    "\n",
    " * archivo1.csv\n",
    " * archivo2.csv\n",
    " * ...\n",
    " * archivo_n.csv"
   ]
  },
  {
   "attachments": {},
   "cell_type": "markdown",
   "metadata": {},
   "source": [
    "Ahora realizamos un script para obtener los datos utilizando `PyGitHub`"
   ]
  },
  {
   "cell_type": "code",
   "execution_count": null,
   "metadata": {},
   "outputs": [],
   "source": [
    "expectedEntries = 0\n",
    "entriesSaved = 0"
   ]
  },
  {
   "cell_type": "code",
   "execution_count": null,
   "metadata": {},
   "outputs": [],
   "source": [
    "years = [str(i) for i in range(2018, 2024)]"
   ]
  },
  {
   "attachments": {},
   "cell_type": "markdown",
   "metadata": {},
   "source": [
    "Creamos la conexión con GitHub mediante un token personal a nuestra cuenta de GitHub."
   ]
  },
  {
   "cell_type": "code",
   "execution_count": null,
   "metadata": {},
   "outputs": [],
   "source": [
    "g = Github(config.GH_TOKEN)\n",
    "repo = g.get_repo('NOSTRODATA/conferencias_matutinas_amlo') "
   ]
  },
  {
   "cell_type": "code",
   "execution_count": null,
   "metadata": {},
   "outputs": [],
   "source": [
    "for year in years:\n",
    "    months_available = repo.get_contents(year)\n",
    "    for month in months_available:\n",
    "        days_available = repo.get_contents(year + \"/\" + month.name)\n",
    "        expectedEntries += len(days_available)\n",
    "        for day in days_available:\n",
    "            file_path = year + \"/\" + month.name + '/' + day.name + '/' + 'csv_por_participante'\n",
    "            try:\n",
    "                file = repo.get_contents(file_path + '/' + 'PRESIDENTE ANDRES MANUEL LOPEZ OBRADOR.csv')\n",
    "            except GithubException as e:\n",
    "                files = [file.name for file in repo.get_contents(file_path) if 'PRESIDENTE' in file.name]\n",
    "                if not files:\n",
    "                    print(f'File not found...')\n",
    "                    continue\n",
    "                print(f'File not found... Trying {file_path + \"/\" + files[0]}')\n",
    "                file = repo.get_contents(file_path)\n",
    "            \n",
    "            raw_url = file.download_url\n",
    "            try:\n",
    "                df = pd.read_csv(raw_url, encoding='utf-8')\n",
    "            except:\n",
    "                pass\n",
    "            append_to_file(df, 'Texto', 'corpus3.txt')\n",
    "            entriesSaved += 1"
   ]
  },
  {
   "cell_type": "code",
   "execution_count": null,
   "metadata": {},
   "outputs": [],
   "source": []
  }
 ],
 "metadata": {
  "kernelspec": {
   "display_name": "pln",
   "language": "python",
   "name": "python3"
  },
  "language_info": {
   "codemirror_mode": {
    "name": "ipython",
    "version": 3
   },
   "file_extension": ".py",
   "mimetype": "text/x-python",
   "name": "python",
   "nbconvert_exporter": "python",
   "pygments_lexer": "ipython3",
   "version": "3.10.9"
  },
  "orig_nbformat": 4,
  "vscode": {
   "interpreter": {
    "hash": "e572938b54010ecd00d17f54cb04110112cffdb0c89e43915cbb58e495b75ef7"
   }
  }
 },
 "nbformat": 4,
 "nbformat_minor": 2
}
