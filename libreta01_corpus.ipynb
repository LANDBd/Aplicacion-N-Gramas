{
 "cells": [
  {
   "attachments": {},
   "cell_type": "markdown",
   "metadata": {},
   "source": [
    "## Procesamiento de Lenguaje Natural\n",
    "\n",
    "*Aplicación de N-gramas: **generación de frases mañaneras*** \n",
    "\n",
    "# ***Obtención de datos***\n",
    "\n",
    "### **Equipo:**\n",
    "\n",
    "- Giottonini Herrera Enrique Alejandro\n",
    "- Burruel Durán Luis Andrés\n",
    "- Villalba Miranda Jesús Abraham\n",
    "\n",
    "**Fuentes**\n",
    "* Los datos fueron obtenidos de [@nostradata ](https://www.nostrodata.com) en [`GitHub`](https://github.com/NOSTRODATA/conferencias_matutinas_amlo)\n",
    "---"
   ]
  },
  {
   "attachments": {},
   "cell_type": "markdown",
   "metadata": {},
   "source": [
    "## Objetivo\n",
    "\n",
    "El objetivo de esta libreta es obtener el `corpus` que utilizaremos para la elaboración de nuestra aplicación de **n-gramas**.\n",
    "\n",
    "Para la obtención de los datos utilizamos la libreria de [`PyGitHub`](https://pygithub.readthedocs.io/en/latest/introduction.html), lo que nos permite interactuar con el repositorio de *@nostradata* por medio de una REST API.\n",
    "\n",
    "Ademas, utilizaremos `Pandas`, lo que nos permitira cargar los datos mediante una *URL* en un `DataFrame`.\n"
   ]
  },
  {
   "cell_type": "code",
   "execution_count": 1,
   "metadata": {},
   "outputs": [],
   "source": [
    "from github import Github, GithubException\n",
    "import pandas as pd"
   ]
  },
  {
   "attachments": {},
   "cell_type": "markdown",
   "metadata": {},
   "source": [
    "## Estrategia\n",
    "\n",
    "Como el objetivo de nuestra tarea es la generación de frases *mañaneras* del presidente Andres Manuel Lopez Obrador, solo utilizaremos los datos relacionados al presidente. Dichos datos los podemos encontrar con la siguiente ruta.\n",
    "\n",
    "`repo-root/año/mes/dia/csv_por_participante/AMLO.csv`\n",
    "\n",
    "Para visualizar como vienen los datos, primero obtenemos un DataFrame de como vienen los datos.\n"
   ]
  },
  {
   "cell_type": "code",
   "execution_count": 2,
   "metadata": {},
   "outputs": [],
   "source": [
    "df = pd.read_csv('https://raw.githubusercontent.com/NOSTRODATA/conferencias_matutinas_amlo/master/2019/11-2019/noviembre%201%2C%202019/csv_por_participante/PRESIDENTE%20ANDRES%20MANUEL%20LOPEZ%20OBRADOR.csv', encoding='utf-8')"
   ]
  },
  {
   "attachments": {},
   "cell_type": "markdown",
   "metadata": {},
   "source": [
    "Visualizamos la información"
   ]
  },
  {
   "cell_type": "code",
   "execution_count": 4,
   "metadata": {},
   "outputs": [
    {
     "data": {
      "text/html": [
       "<div>\n",
       "<style scoped>\n",
       "    .dataframe tbody tr th:only-of-type {\n",
       "        vertical-align: middle;\n",
       "    }\n",
       "\n",
       "    .dataframe tbody tr th {\n",
       "        vertical-align: top;\n",
       "    }\n",
       "\n",
       "    .dataframe thead th {\n",
       "        text-align: right;\n",
       "    }\n",
       "</style>\n",
       "<table border=\"1\" class=\"dataframe\">\n",
       "  <thead>\n",
       "    <tr style=\"text-align: right;\">\n",
       "      <th></th>\n",
       "      <th>Participante</th>\n",
       "      <th>Texto</th>\n",
       "      <th>Sentimiento</th>\n",
       "      <th>Palabras</th>\n",
       "      <th>Dia</th>\n",
       "      <th>Mes</th>\n",
       "      <th>Anio</th>\n",
       "    </tr>\n",
       "  </thead>\n",
       "  <tbody>\n",
       "    <tr>\n",
       "      <th>0</th>\n",
       "      <td>PRESIDENTE ANDRES MANUEL LOPEZ OBRADOR</td>\n",
       "      <td>Buenos días. Ánimo.</td>\n",
       "      <td>0.328237</td>\n",
       "      <td>3</td>\n",
       "      <td>1</td>\n",
       "      <td>11</td>\n",
       "      <td>2019</td>\n",
       "    </tr>\n",
       "    <tr>\n",
       "      <th>1</th>\n",
       "      <td>PRESIDENTE ANDRES MANUEL LOPEZ OBRADOR</td>\n",
       "      <td>Vamos a continuar con la sesión de ayer acerca...</td>\n",
       "      <td>0.328237</td>\n",
       "      <td>29</td>\n",
       "      <td>1</td>\n",
       "      <td>11</td>\n",
       "      <td>2019</td>\n",
       "    </tr>\n",
       "    <tr>\n",
       "      <th>2</th>\n",
       "      <td>PRESIDENTE ANDRES MANUEL LOPEZ OBRADOR</td>\n",
       "      <td>Y también vamos a dar a conocer a todos que se...</td>\n",
       "      <td>0.328237</td>\n",
       "      <td>77</td>\n",
       "      <td>1</td>\n",
       "      <td>11</td>\n",
       "      <td>2019</td>\n",
       "    </tr>\n",
       "    <tr>\n",
       "      <th>3</th>\n",
       "      <td>PRESIDENTE ANDRES MANUEL LOPEZ OBRADOR</td>\n",
       "      <td>Ricardo Rodríguez Vargas, que es el director d...</td>\n",
       "      <td>0.328237</td>\n",
       "      <td>35</td>\n",
       "      <td>1</td>\n",
       "      <td>11</td>\n",
       "      <td>2019</td>\n",
       "    </tr>\n",
       "    <tr>\n",
       "      <th>4</th>\n",
       "      <td>PRESIDENTE ANDRES MANUEL LOPEZ OBRADOR</td>\n",
       "      <td>Muy bien.</td>\n",
       "      <td>0.328237</td>\n",
       "      <td>2</td>\n",
       "      <td>1</td>\n",
       "      <td>11</td>\n",
       "      <td>2019</td>\n",
       "    </tr>\n",
       "  </tbody>\n",
       "</table>\n",
       "</div>"
      ],
      "text/plain": [
       "                             Participante  \\\n",
       "0  PRESIDENTE ANDRES MANUEL LOPEZ OBRADOR   \n",
       "1  PRESIDENTE ANDRES MANUEL LOPEZ OBRADOR   \n",
       "2  PRESIDENTE ANDRES MANUEL LOPEZ OBRADOR   \n",
       "3  PRESIDENTE ANDRES MANUEL LOPEZ OBRADOR   \n",
       "4  PRESIDENTE ANDRES MANUEL LOPEZ OBRADOR   \n",
       "\n",
       "                                               Texto  Sentimiento  Palabras  \\\n",
       "0                                Buenos días. Ánimo.     0.328237         3   \n",
       "1  Vamos a continuar con la sesión de ayer acerca...     0.328237        29   \n",
       "2  Y también vamos a dar a conocer a todos que se...     0.328237        77   \n",
       "3  Ricardo Rodríguez Vargas, que es el director d...     0.328237        35   \n",
       "4                                          Muy bien.     0.328237         2   \n",
       "\n",
       "   Dia  Mes  Anio  \n",
       "0    1   11  2019  \n",
       "1    1   11  2019  \n",
       "2    1   11  2019  \n",
       "3    1   11  2019  \n",
       "4    1   11  2019  "
      ]
     },
     "execution_count": 4,
     "metadata": {},
     "output_type": "execute_result"
    }
   ],
   "source": [
    "df.head(5)"
   ]
  },
  {
   "attachments": {},
   "cell_type": "markdown",
   "metadata": {},
   "source": [
    "De aqui observamos que para la creación de nuestro corpus solamente utilizaremos la columna `Texto` del DataFrame."
   ]
  },
  {
   "attachments": {},
   "cell_type": "markdown",
   "metadata": {},
   "source": [
    "Creamos una función que permita almacenar el contendio de una columna de un DataFrame, y que concatene al archivo especificado.\n"
   ]
  },
  {
   "cell_type": "code",
   "execution_count": null,
   "metadata": {},
   "outputs": [],
   "source": [
    "def append_to_file(df, column, file_path):\n",
    "    if file_path == '':\n",
    "        raise ValueError(\"Invalid file path\")\n",
    "    values = df[column].values.tolist()\n",
    "    with open(file_path, mode='a', encoding='utf-8') as f:\n",
    "        for line in values:\n",
    "            f.write(line + '\\n')\n",
    "        f.write('\\n')"
   ]
  },
  {
   "attachments": {},
   "cell_type": "markdown",
   "metadata": {},
   "source": [
    "Esta función la utilizaremos para que el archivo `.txt` quede de forma:\n",
    "\n",
    " * archivo1.csv\n",
    " * archivo2.csv\n",
    " * ...\n",
    " * archivo_n.csv"
   ]
  },
  {
   "attachments": {},
   "cell_type": "markdown",
   "metadata": {},
   "source": [
    "Ahora realizamos un script para obtener los datos utilizando `PyGitHub`"
   ]
  }
 ],
 "metadata": {
  "kernelspec": {
   "display_name": "pln",
   "language": "python",
   "name": "python3"
  },
  "language_info": {
   "codemirror_mode": {
    "name": "ipython",
    "version": 3
   },
   "file_extension": ".py",
   "mimetype": "text/x-python",
   "name": "python",
   "nbconvert_exporter": "python",
   "pygments_lexer": "ipython3",
   "version": "3.10.9"
  },
  "orig_nbformat": 4,
  "vscode": {
   "interpreter": {
    "hash": "e572938b54010ecd00d17f54cb04110112cffdb0c89e43915cbb58e495b75ef7"
   }
  }
 },
 "nbformat": 4,
 "nbformat_minor": 2
}
